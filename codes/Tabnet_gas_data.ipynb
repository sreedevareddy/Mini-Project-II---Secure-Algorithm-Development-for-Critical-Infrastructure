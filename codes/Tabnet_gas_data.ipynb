{
  "nbformat": 4,
  "nbformat_minor": 0,
  "metadata": {
    "colab": {
      "provenance": []
    },
    "kernelspec": {
      "name": "python3",
      "display_name": "Python 3"
    },
    "language_info": {
      "name": "python"
    }
  },
  "cells": [
    {
      "cell_type": "code",
      "source": [
        "from scipy.io import arff\n",
        "import urllib.request\n",
        "import io\n",
        "\n",
        "url = \"http://www.ece.uah.edu/~thm0009/icsdatasets/gas_final.arff\"\n",
        "ftpstream = urllib.request.urlopen(url)\n",
        "data, meta = arff.loadarff(io.StringIO(ftpstream.read().decode('utf-8')))"
      ],
      "metadata": {
        "id": "pb0N7krmV2SE"
      },
      "execution_count": null,
      "outputs": []
    },
    {
      "cell_type": "code",
      "source": [
        "import pandas as pd\n",
        "df = pd.DataFrame(data)\n",
        "df['result'] = df['result'].apply(lambda x: int(x.decode('utf-8')))\n",
        "df"
      ],
      "metadata": {
        "colab": {
          "base_uri": "https://localhost:8080/",
          "height": 443
        },
        "id": "M94xtONrV8Ur",
        "outputId": "e15e1378-0597-48b5-896b-fd8fa08725f5"
      },
      "execution_count": null,
      "outputs": [
        {
          "output_type": "execute_result",
          "data": {
            "text/plain": [
              "       command_address  response_address  command_memory  response_memory  \\\n",
              "0                  4.0               4.0           183.0            233.0   \n",
              "1                  4.0               4.0           183.0            233.0   \n",
              "2                  4.0               4.0           183.0            233.0   \n",
              "3                  4.0               4.0           183.0            233.0   \n",
              "4                  4.0               4.0           183.0            233.0   \n",
              "...                ...               ...             ...              ...   \n",
              "97014              4.0               4.0           183.0            233.0   \n",
              "97015              4.0               4.0           183.0            233.0   \n",
              "97016              4.0               4.0           183.0            233.0   \n",
              "97017              4.0               4.0           183.0            233.0   \n",
              "97018              4.0               4.0           183.0            233.0   \n",
              "\n",
              "       command_memory_count  response_memory_count  comm_read_function  \\\n",
              "0                       9.0                   18.0                 3.0   \n",
              "1                       9.0                   18.0                 3.0   \n",
              "2                       9.0                   18.0                 3.0   \n",
              "3                       9.0                   18.0                 3.0   \n",
              "4                       9.0                   18.0                 3.0   \n",
              "...                     ...                    ...                 ...   \n",
              "97014                   9.0                   18.0                 3.0   \n",
              "97015                   9.0                   18.0                 3.0   \n",
              "97016                   9.0                   18.0                 3.0   \n",
              "97017                   9.0                   18.0                 3.0   \n",
              "97018                   9.0                   18.0                 3.0   \n",
              "\n",
              "       comm_write_fun  resp_read_fun  resp_write_fun  ...  rate  setpoint  \\\n",
              "0                10.0            3.0            10.0  ...   0.0      20.0   \n",
              "1                10.0            3.0            10.0  ...   0.0      20.0   \n",
              "2                10.0            3.0            10.0  ...   0.0      20.0   \n",
              "3                10.0            3.0            10.0  ...   0.0      20.0   \n",
              "4                10.0            3.0            10.0  ...   0.0      20.0   \n",
              "...               ...            ...             ...  ...   ...       ...   \n",
              "97014            10.0            3.0            10.0  ...   0.0      20.0   \n",
              "97015            10.0            3.0            10.0  ...   0.0      20.0   \n",
              "97016            10.0            3.0            10.0  ...   0.0      20.0   \n",
              "97017            10.0            3.0            10.0  ...   0.0      20.0   \n",
              "97018            10.0            3.0            10.0  ...   0.0      20.0   \n",
              "\n",
              "       control_mode  control_scheme  pump  solenoid  crc_rate  measurement  \\\n",
              "0               2.0             1.0   0.0       0.0       0.0     0.528736   \n",
              "1               2.0             1.0   0.0       0.0       0.0     0.540230   \n",
              "2               2.0             1.0   0.0       0.0       0.0     0.540230   \n",
              "3               2.0             1.0   0.0       0.0       0.0     0.540230   \n",
              "4               2.0             1.0   0.0       0.0       0.0     0.528736   \n",
              "...             ...             ...   ...       ...       ...          ...   \n",
              "97014           0.0             1.0   0.0       0.0       0.0     0.252874   \n",
              "97015           0.0             1.0   0.0       0.0       0.0     0.275862   \n",
              "97016           0.0             1.0   0.0       0.0       0.0     0.264368   \n",
              "97017           0.0             1.0   0.0       0.0       0.0     0.287356   \n",
              "97018           0.0             1.0   0.0       0.0       0.0     0.275862   \n",
              "\n",
              "           time  result  \n",
              "0      1.106868       0  \n",
              "1      1.043098       0  \n",
              "2      1.266332       0  \n",
              "3      1.116280       0  \n",
              "4      1.257916       0  \n",
              "...         ...     ...  \n",
              "97014  1.288076       0  \n",
              "97015  1.126445       0  \n",
              "97016  1.251281       0  \n",
              "97017  1.103920       0  \n",
              "97018  1.218950       0  \n",
              "\n",
              "[97019 rows x 27 columns]"
            ],
            "text/html": [
              "\n",
              "  <div id=\"df-f6abfcd8-a18f-41f6-8f49-36507d244037\" class=\"colab-df-container\">\n",
              "    <div>\n",
              "<style scoped>\n",
              "    .dataframe tbody tr th:only-of-type {\n",
              "        vertical-align: middle;\n",
              "    }\n",
              "\n",
              "    .dataframe tbody tr th {\n",
              "        vertical-align: top;\n",
              "    }\n",
              "\n",
              "    .dataframe thead th {\n",
              "        text-align: right;\n",
              "    }\n",
              "</style>\n",
              "<table border=\"1\" class=\"dataframe\">\n",
              "  <thead>\n",
              "    <tr style=\"text-align: right;\">\n",
              "      <th></th>\n",
              "      <th>command_address</th>\n",
              "      <th>response_address</th>\n",
              "      <th>command_memory</th>\n",
              "      <th>response_memory</th>\n",
              "      <th>command_memory_count</th>\n",
              "      <th>response_memory_count</th>\n",
              "      <th>comm_read_function</th>\n",
              "      <th>comm_write_fun</th>\n",
              "      <th>resp_read_fun</th>\n",
              "      <th>resp_write_fun</th>\n",
              "      <th>...</th>\n",
              "      <th>rate</th>\n",
              "      <th>setpoint</th>\n",
              "      <th>control_mode</th>\n",
              "      <th>control_scheme</th>\n",
              "      <th>pump</th>\n",
              "      <th>solenoid</th>\n",
              "      <th>crc_rate</th>\n",
              "      <th>measurement</th>\n",
              "      <th>time</th>\n",
              "      <th>result</th>\n",
              "    </tr>\n",
              "  </thead>\n",
              "  <tbody>\n",
              "    <tr>\n",
              "      <th>0</th>\n",
              "      <td>4.0</td>\n",
              "      <td>4.0</td>\n",
              "      <td>183.0</td>\n",
              "      <td>233.0</td>\n",
              "      <td>9.0</td>\n",
              "      <td>18.0</td>\n",
              "      <td>3.0</td>\n",
              "      <td>10.0</td>\n",
              "      <td>3.0</td>\n",
              "      <td>10.0</td>\n",
              "      <td>...</td>\n",
              "      <td>0.0</td>\n",
              "      <td>20.0</td>\n",
              "      <td>2.0</td>\n",
              "      <td>1.0</td>\n",
              "      <td>0.0</td>\n",
              "      <td>0.0</td>\n",
              "      <td>0.0</td>\n",
              "      <td>0.528736</td>\n",
              "      <td>1.106868</td>\n",
              "      <td>0</td>\n",
              "    </tr>\n",
              "    <tr>\n",
              "      <th>1</th>\n",
              "      <td>4.0</td>\n",
              "      <td>4.0</td>\n",
              "      <td>183.0</td>\n",
              "      <td>233.0</td>\n",
              "      <td>9.0</td>\n",
              "      <td>18.0</td>\n",
              "      <td>3.0</td>\n",
              "      <td>10.0</td>\n",
              "      <td>3.0</td>\n",
              "      <td>10.0</td>\n",
              "      <td>...</td>\n",
              "      <td>0.0</td>\n",
              "      <td>20.0</td>\n",
              "      <td>2.0</td>\n",
              "      <td>1.0</td>\n",
              "      <td>0.0</td>\n",
              "      <td>0.0</td>\n",
              "      <td>0.0</td>\n",
              "      <td>0.540230</td>\n",
              "      <td>1.043098</td>\n",
              "      <td>0</td>\n",
              "    </tr>\n",
              "    <tr>\n",
              "      <th>2</th>\n",
              "      <td>4.0</td>\n",
              "      <td>4.0</td>\n",
              "      <td>183.0</td>\n",
              "      <td>233.0</td>\n",
              "      <td>9.0</td>\n",
              "      <td>18.0</td>\n",
              "      <td>3.0</td>\n",
              "      <td>10.0</td>\n",
              "      <td>3.0</td>\n",
              "      <td>10.0</td>\n",
              "      <td>...</td>\n",
              "      <td>0.0</td>\n",
              "      <td>20.0</td>\n",
              "      <td>2.0</td>\n",
              "      <td>1.0</td>\n",
              "      <td>0.0</td>\n",
              "      <td>0.0</td>\n",
              "      <td>0.0</td>\n",
              "      <td>0.540230</td>\n",
              "      <td>1.266332</td>\n",
              "      <td>0</td>\n",
              "    </tr>\n",
              "    <tr>\n",
              "      <th>3</th>\n",
              "      <td>4.0</td>\n",
              "      <td>4.0</td>\n",
              "      <td>183.0</td>\n",
              "      <td>233.0</td>\n",
              "      <td>9.0</td>\n",
              "      <td>18.0</td>\n",
              "      <td>3.0</td>\n",
              "      <td>10.0</td>\n",
              "      <td>3.0</td>\n",
              "      <td>10.0</td>\n",
              "      <td>...</td>\n",
              "      <td>0.0</td>\n",
              "      <td>20.0</td>\n",
              "      <td>2.0</td>\n",
              "      <td>1.0</td>\n",
              "      <td>0.0</td>\n",
              "      <td>0.0</td>\n",
              "      <td>0.0</td>\n",
              "      <td>0.540230</td>\n",
              "      <td>1.116280</td>\n",
              "      <td>0</td>\n",
              "    </tr>\n",
              "    <tr>\n",
              "      <th>4</th>\n",
              "      <td>4.0</td>\n",
              "      <td>4.0</td>\n",
              "      <td>183.0</td>\n",
              "      <td>233.0</td>\n",
              "      <td>9.0</td>\n",
              "      <td>18.0</td>\n",
              "      <td>3.0</td>\n",
              "      <td>10.0</td>\n",
              "      <td>3.0</td>\n",
              "      <td>10.0</td>\n",
              "      <td>...</td>\n",
              "      <td>0.0</td>\n",
              "      <td>20.0</td>\n",
              "      <td>2.0</td>\n",
              "      <td>1.0</td>\n",
              "      <td>0.0</td>\n",
              "      <td>0.0</td>\n",
              "      <td>0.0</td>\n",
              "      <td>0.528736</td>\n",
              "      <td>1.257916</td>\n",
              "      <td>0</td>\n",
              "    </tr>\n",
              "    <tr>\n",
              "      <th>...</th>\n",
              "      <td>...</td>\n",
              "      <td>...</td>\n",
              "      <td>...</td>\n",
              "      <td>...</td>\n",
              "      <td>...</td>\n",
              "      <td>...</td>\n",
              "      <td>...</td>\n",
              "      <td>...</td>\n",
              "      <td>...</td>\n",
              "      <td>...</td>\n",
              "      <td>...</td>\n",
              "      <td>...</td>\n",
              "      <td>...</td>\n",
              "      <td>...</td>\n",
              "      <td>...</td>\n",
              "      <td>...</td>\n",
              "      <td>...</td>\n",
              "      <td>...</td>\n",
              "      <td>...</td>\n",
              "      <td>...</td>\n",
              "      <td>...</td>\n",
              "    </tr>\n",
              "    <tr>\n",
              "      <th>97014</th>\n",
              "      <td>4.0</td>\n",
              "      <td>4.0</td>\n",
              "      <td>183.0</td>\n",
              "      <td>233.0</td>\n",
              "      <td>9.0</td>\n",
              "      <td>18.0</td>\n",
              "      <td>3.0</td>\n",
              "      <td>10.0</td>\n",
              "      <td>3.0</td>\n",
              "      <td>10.0</td>\n",
              "      <td>...</td>\n",
              "      <td>0.0</td>\n",
              "      <td>20.0</td>\n",
              "      <td>0.0</td>\n",
              "      <td>1.0</td>\n",
              "      <td>0.0</td>\n",
              "      <td>0.0</td>\n",
              "      <td>0.0</td>\n",
              "      <td>0.252874</td>\n",
              "      <td>1.288076</td>\n",
              "      <td>0</td>\n",
              "    </tr>\n",
              "    <tr>\n",
              "      <th>97015</th>\n",
              "      <td>4.0</td>\n",
              "      <td>4.0</td>\n",
              "      <td>183.0</td>\n",
              "      <td>233.0</td>\n",
              "      <td>9.0</td>\n",
              "      <td>18.0</td>\n",
              "      <td>3.0</td>\n",
              "      <td>10.0</td>\n",
              "      <td>3.0</td>\n",
              "      <td>10.0</td>\n",
              "      <td>...</td>\n",
              "      <td>0.0</td>\n",
              "      <td>20.0</td>\n",
              "      <td>0.0</td>\n",
              "      <td>1.0</td>\n",
              "      <td>0.0</td>\n",
              "      <td>0.0</td>\n",
              "      <td>0.0</td>\n",
              "      <td>0.275862</td>\n",
              "      <td>1.126445</td>\n",
              "      <td>0</td>\n",
              "    </tr>\n",
              "    <tr>\n",
              "      <th>97016</th>\n",
              "      <td>4.0</td>\n",
              "      <td>4.0</td>\n",
              "      <td>183.0</td>\n",
              "      <td>233.0</td>\n",
              "      <td>9.0</td>\n",
              "      <td>18.0</td>\n",
              "      <td>3.0</td>\n",
              "      <td>10.0</td>\n",
              "      <td>3.0</td>\n",
              "      <td>10.0</td>\n",
              "      <td>...</td>\n",
              "      <td>0.0</td>\n",
              "      <td>20.0</td>\n",
              "      <td>0.0</td>\n",
              "      <td>1.0</td>\n",
              "      <td>0.0</td>\n",
              "      <td>0.0</td>\n",
              "      <td>0.0</td>\n",
              "      <td>0.264368</td>\n",
              "      <td>1.251281</td>\n",
              "      <td>0</td>\n",
              "    </tr>\n",
              "    <tr>\n",
              "      <th>97017</th>\n",
              "      <td>4.0</td>\n",
              "      <td>4.0</td>\n",
              "      <td>183.0</td>\n",
              "      <td>233.0</td>\n",
              "      <td>9.0</td>\n",
              "      <td>18.0</td>\n",
              "      <td>3.0</td>\n",
              "      <td>10.0</td>\n",
              "      <td>3.0</td>\n",
              "      <td>10.0</td>\n",
              "      <td>...</td>\n",
              "      <td>0.0</td>\n",
              "      <td>20.0</td>\n",
              "      <td>0.0</td>\n",
              "      <td>1.0</td>\n",
              "      <td>0.0</td>\n",
              "      <td>0.0</td>\n",
              "      <td>0.0</td>\n",
              "      <td>0.287356</td>\n",
              "      <td>1.103920</td>\n",
              "      <td>0</td>\n",
              "    </tr>\n",
              "    <tr>\n",
              "      <th>97018</th>\n",
              "      <td>4.0</td>\n",
              "      <td>4.0</td>\n",
              "      <td>183.0</td>\n",
              "      <td>233.0</td>\n",
              "      <td>9.0</td>\n",
              "      <td>18.0</td>\n",
              "      <td>3.0</td>\n",
              "      <td>10.0</td>\n",
              "      <td>3.0</td>\n",
              "      <td>10.0</td>\n",
              "      <td>...</td>\n",
              "      <td>0.0</td>\n",
              "      <td>20.0</td>\n",
              "      <td>0.0</td>\n",
              "      <td>1.0</td>\n",
              "      <td>0.0</td>\n",
              "      <td>0.0</td>\n",
              "      <td>0.0</td>\n",
              "      <td>0.275862</td>\n",
              "      <td>1.218950</td>\n",
              "      <td>0</td>\n",
              "    </tr>\n",
              "  </tbody>\n",
              "</table>\n",
              "<p>97019 rows × 27 columns</p>\n",
              "</div>\n",
              "    <div class=\"colab-df-buttons\">\n",
              "\n",
              "  <div class=\"colab-df-container\">\n",
              "    <button class=\"colab-df-convert\" onclick=\"convertToInteractive('df-f6abfcd8-a18f-41f6-8f49-36507d244037')\"\n",
              "            title=\"Convert this dataframe to an interactive table.\"\n",
              "            style=\"display:none;\">\n",
              "\n",
              "  <svg xmlns=\"http://www.w3.org/2000/svg\" height=\"24px\" viewBox=\"0 -960 960 960\">\n",
              "    <path d=\"M120-120v-720h720v720H120Zm60-500h600v-160H180v160Zm220 220h160v-160H400v160Zm0 220h160v-160H400v160ZM180-400h160v-160H180v160Zm440 0h160v-160H620v160ZM180-180h160v-160H180v160Zm440 0h160v-160H620v160Z\"/>\n",
              "  </svg>\n",
              "    </button>\n",
              "\n",
              "  <style>\n",
              "    .colab-df-container {\n",
              "      display:flex;\n",
              "      gap: 12px;\n",
              "    }\n",
              "\n",
              "    .colab-df-convert {\n",
              "      background-color: #E8F0FE;\n",
              "      border: none;\n",
              "      border-radius: 50%;\n",
              "      cursor: pointer;\n",
              "      display: none;\n",
              "      fill: #1967D2;\n",
              "      height: 32px;\n",
              "      padding: 0 0 0 0;\n",
              "      width: 32px;\n",
              "    }\n",
              "\n",
              "    .colab-df-convert:hover {\n",
              "      background-color: #E2EBFA;\n",
              "      box-shadow: 0px 1px 2px rgba(60, 64, 67, 0.3), 0px 1px 3px 1px rgba(60, 64, 67, 0.15);\n",
              "      fill: #174EA6;\n",
              "    }\n",
              "\n",
              "    .colab-df-buttons div {\n",
              "      margin-bottom: 4px;\n",
              "    }\n",
              "\n",
              "    [theme=dark] .colab-df-convert {\n",
              "      background-color: #3B4455;\n",
              "      fill: #D2E3FC;\n",
              "    }\n",
              "\n",
              "    [theme=dark] .colab-df-convert:hover {\n",
              "      background-color: #434B5C;\n",
              "      box-shadow: 0px 1px 3px 1px rgba(0, 0, 0, 0.15);\n",
              "      filter: drop-shadow(0px 1px 2px rgba(0, 0, 0, 0.3));\n",
              "      fill: #FFFFFF;\n",
              "    }\n",
              "  </style>\n",
              "\n",
              "    <script>\n",
              "      const buttonEl =\n",
              "        document.querySelector('#df-f6abfcd8-a18f-41f6-8f49-36507d244037 button.colab-df-convert');\n",
              "      buttonEl.style.display =\n",
              "        google.colab.kernel.accessAllowed ? 'block' : 'none';\n",
              "\n",
              "      async function convertToInteractive(key) {\n",
              "        const element = document.querySelector('#df-f6abfcd8-a18f-41f6-8f49-36507d244037');\n",
              "        const dataTable =\n",
              "          await google.colab.kernel.invokeFunction('convertToInteractive',\n",
              "                                                    [key], {});\n",
              "        if (!dataTable) return;\n",
              "\n",
              "        const docLinkHtml = 'Like what you see? Visit the ' +\n",
              "          '<a target=\"_blank\" href=https://colab.research.google.com/notebooks/data_table.ipynb>data table notebook</a>'\n",
              "          + ' to learn more about interactive tables.';\n",
              "        element.innerHTML = '';\n",
              "        dataTable['output_type'] = 'display_data';\n",
              "        await google.colab.output.renderOutput(dataTable, element);\n",
              "        const docLink = document.createElement('div');\n",
              "        docLink.innerHTML = docLinkHtml;\n",
              "        element.appendChild(docLink);\n",
              "      }\n",
              "    </script>\n",
              "  </div>\n",
              "\n",
              "\n",
              "<div id=\"df-6fe5358b-5173-4d1c-acab-8f31ccf407d7\">\n",
              "  <button class=\"colab-df-quickchart\" onclick=\"quickchart('df-6fe5358b-5173-4d1c-acab-8f31ccf407d7')\"\n",
              "            title=\"Suggest charts\"\n",
              "            style=\"display:none;\">\n",
              "\n",
              "<svg xmlns=\"http://www.w3.org/2000/svg\" height=\"24px\"viewBox=\"0 0 24 24\"\n",
              "     width=\"24px\">\n",
              "    <g>\n",
              "        <path d=\"M19 3H5c-1.1 0-2 .9-2 2v14c0 1.1.9 2 2 2h14c1.1 0 2-.9 2-2V5c0-1.1-.9-2-2-2zM9 17H7v-7h2v7zm4 0h-2V7h2v10zm4 0h-2v-4h2v4z\"/>\n",
              "    </g>\n",
              "</svg>\n",
              "  </button>\n",
              "\n",
              "<style>\n",
              "  .colab-df-quickchart {\n",
              "      --bg-color: #E8F0FE;\n",
              "      --fill-color: #1967D2;\n",
              "      --hover-bg-color: #E2EBFA;\n",
              "      --hover-fill-color: #174EA6;\n",
              "      --disabled-fill-color: #AAA;\n",
              "      --disabled-bg-color: #DDD;\n",
              "  }\n",
              "\n",
              "  [theme=dark] .colab-df-quickchart {\n",
              "      --bg-color: #3B4455;\n",
              "      --fill-color: #D2E3FC;\n",
              "      --hover-bg-color: #434B5C;\n",
              "      --hover-fill-color: #FFFFFF;\n",
              "      --disabled-bg-color: #3B4455;\n",
              "      --disabled-fill-color: #666;\n",
              "  }\n",
              "\n",
              "  .colab-df-quickchart {\n",
              "    background-color: var(--bg-color);\n",
              "    border: none;\n",
              "    border-radius: 50%;\n",
              "    cursor: pointer;\n",
              "    display: none;\n",
              "    fill: var(--fill-color);\n",
              "    height: 32px;\n",
              "    padding: 0;\n",
              "    width: 32px;\n",
              "  }\n",
              "\n",
              "  .colab-df-quickchart:hover {\n",
              "    background-color: var(--hover-bg-color);\n",
              "    box-shadow: 0 1px 2px rgba(60, 64, 67, 0.3), 0 1px 3px 1px rgba(60, 64, 67, 0.15);\n",
              "    fill: var(--button-hover-fill-color);\n",
              "  }\n",
              "\n",
              "  .colab-df-quickchart-complete:disabled,\n",
              "  .colab-df-quickchart-complete:disabled:hover {\n",
              "    background-color: var(--disabled-bg-color);\n",
              "    fill: var(--disabled-fill-color);\n",
              "    box-shadow: none;\n",
              "  }\n",
              "\n",
              "  .colab-df-spinner {\n",
              "    border: 2px solid var(--fill-color);\n",
              "    border-color: transparent;\n",
              "    border-bottom-color: var(--fill-color);\n",
              "    animation:\n",
              "      spin 1s steps(1) infinite;\n",
              "  }\n",
              "\n",
              "  @keyframes spin {\n",
              "    0% {\n",
              "      border-color: transparent;\n",
              "      border-bottom-color: var(--fill-color);\n",
              "      border-left-color: var(--fill-color);\n",
              "    }\n",
              "    20% {\n",
              "      border-color: transparent;\n",
              "      border-left-color: var(--fill-color);\n",
              "      border-top-color: var(--fill-color);\n",
              "    }\n",
              "    30% {\n",
              "      border-color: transparent;\n",
              "      border-left-color: var(--fill-color);\n",
              "      border-top-color: var(--fill-color);\n",
              "      border-right-color: var(--fill-color);\n",
              "    }\n",
              "    40% {\n",
              "      border-color: transparent;\n",
              "      border-right-color: var(--fill-color);\n",
              "      border-top-color: var(--fill-color);\n",
              "    }\n",
              "    60% {\n",
              "      border-color: transparent;\n",
              "      border-right-color: var(--fill-color);\n",
              "    }\n",
              "    80% {\n",
              "      border-color: transparent;\n",
              "      border-right-color: var(--fill-color);\n",
              "      border-bottom-color: var(--fill-color);\n",
              "    }\n",
              "    90% {\n",
              "      border-color: transparent;\n",
              "      border-bottom-color: var(--fill-color);\n",
              "    }\n",
              "  }\n",
              "</style>\n",
              "\n",
              "  <script>\n",
              "    async function quickchart(key) {\n",
              "      const quickchartButtonEl =\n",
              "        document.querySelector('#' + key + ' button');\n",
              "      quickchartButtonEl.disabled = true;  // To prevent multiple clicks.\n",
              "      quickchartButtonEl.classList.add('colab-df-spinner');\n",
              "      try {\n",
              "        const charts = await google.colab.kernel.invokeFunction(\n",
              "            'suggestCharts', [key], {});\n",
              "      } catch (error) {\n",
              "        console.error('Error during call to suggestCharts:', error);\n",
              "      }\n",
              "      quickchartButtonEl.classList.remove('colab-df-spinner');\n",
              "      quickchartButtonEl.classList.add('colab-df-quickchart-complete');\n",
              "    }\n",
              "    (() => {\n",
              "      let quickchartButtonEl =\n",
              "        document.querySelector('#df-6fe5358b-5173-4d1c-acab-8f31ccf407d7 button');\n",
              "      quickchartButtonEl.style.display =\n",
              "        google.colab.kernel.accessAllowed ? 'block' : 'none';\n",
              "    })();\n",
              "  </script>\n",
              "</div>\n",
              "    </div>\n",
              "  </div>\n"
            ]
          },
          "metadata": {},
          "execution_count": 4
        }
      ]
    },
    {
      "cell_type": "code",
      "source": [
        "import pandas as pd\n",
        "\n",
        "# Assuming 'df' is your DataFrame\n",
        "column_names = df.columns.tolist()\n",
        "\n",
        "print(column_names)"
      ],
      "metadata": {
        "colab": {
          "base_uri": "https://localhost:8080/"
        },
        "id": "q_V_nQvIYs3K",
        "outputId": "3a4d4a51-5542-4e37-86d1-e58fb096668f"
      },
      "execution_count": null,
      "outputs": [
        {
          "output_type": "stream",
          "name": "stdout",
          "text": [
            "['command_address', 'response_address', 'command_memory', 'response_memory', 'command_memory_count', 'response_memory_count', 'comm_read_function', 'comm_write_fun', 'resp_read_fun', 'resp_write_fun', 'sub_function', 'command_length', 'resp_length', 'gain', 'reset', 'deadband', 'cycletime', 'rate', 'setpoint', 'control_mode', 'control_scheme', 'pump', 'solenoid', 'crc_rate', 'measurement', 'time', 'result']\n"
          ]
        }
      ]
    },
    {
      "cell_type": "code",
      "source": [
        "target = \"result\"\n",
        "\n",
        "int_columns = ['command_address', 'response_address', 'command_memory', 'response_memory', 'command_memory_count', 'response_memory_count', 'comm_read_function', 'comm_write_fun', 'resp_read_fun', 'resp_write_fun', 'sub_function', 'command_length', 'resp_length', 'gain', 'reset', 'deadband', 'cycletime', 'rate', 'setpoint', 'control_mode', 'control_scheme', 'pump', 'solenoid', 'crc_rate', 'measurement', 'time']\n",
        "bool_columns = []\n",
        "\n",
        "feature_columns = (int_columns + bool_columns + [target])"
      ],
      "metadata": {
        "id": "i247ISgBYi-X"
      },
      "execution_count": null,
      "outputs": []
    },
    {
      "cell_type": "code",
      "source": [
        "from sklearn.model_selection import train_test_split\n",
        "train = df\n",
        "n_total = len(train)\n",
        "\n",
        "train_val_indices, test_indices = train_test_split(\n",
        "    range(n_total), test_size=0.2, random_state=0)\n",
        "train_indices, valid_indices = train_test_split(\n",
        "    train_val_indices, test_size=0.2 / 0.6, random_state=0)\n"
      ],
      "metadata": {
        "id": "cLzItFELYDvU"
      },
      "execution_count": null,
      "outputs": []
    },
    {
      "cell_type": "code",
      "source": [
        "categorical_columns = []\n",
        "categorical_dims =  {}\n",
        "for col in train.columns[train.dtypes == object]:\n",
        "  print(col, train[col].nunique())\n",
        "  l_enc = LabelEncoder()\n",
        "  train[col] = train[col].fillna(\"VV_likely\")\n",
        "  train[col] = l_enc.fit_transform(train[col].values)\n",
        "  categorical_columns.append(col)\n",
        "  categorical_dims[col] = len(l_enc.classes_)\n",
        "\n",
        "for col in train.columns[train.dtypes == 'float64']:\n",
        "  train.fillna(train.loc[train_indices, col].mean(), inplace=True)"
      ],
      "metadata": {
        "id": "8aMlyR3_YQ_h"
      },
      "execution_count": null,
      "outputs": []
    },
    {
      "cell_type": "code",
      "source": [
        "unused_feat = []\n",
        "\n",
        "features = [ col for col in train.columns if col not in unused_feat+[target]]\n",
        "\n",
        "cat_idxs = [ i for i, f in enumerate(features) if f in categorical_columns]\n",
        "\n",
        "cat_dims = [ categorical_dims[f] for i, f in enumerate(features) if f in categorical_columns]\n"
      ],
      "metadata": {
        "id": "0n7DNhUhYUOc"
      },
      "execution_count": null,
      "outputs": []
    },
    {
      "cell_type": "code",
      "source": [
        "!pip install pytorch_tabnet"
      ],
      "metadata": {
        "colab": {
          "base_uri": "https://localhost:8080/"
        },
        "id": "lPSmFJZeXVAy",
        "outputId": "4fdc7445-b0d4-4a0b-8229-74a239368f60"
      },
      "execution_count": null,
      "outputs": [
        {
          "output_type": "stream",
          "name": "stdout",
          "text": [
            "Collecting pytorch_tabnet\n",
            "  Downloading pytorch_tabnet-4.1.0-py3-none-any.whl (44 kB)\n",
            "\u001b[?25l     \u001b[90m━━━━━━━━━━━━━━━━━━━━━━━━━━━━━━━━━━━━━━━━\u001b[0m \u001b[32m0.0/44.5 kB\u001b[0m \u001b[31m?\u001b[0m eta \u001b[36m-:--:--\u001b[0m\r\u001b[2K     \u001b[90m━━━━━━━━━━━━━━━━━━━━━━━━━━━━━━━━━━━━━━━━\u001b[0m \u001b[32m44.5/44.5 kB\u001b[0m \u001b[31m1.2 MB/s\u001b[0m eta \u001b[36m0:00:00\u001b[0m\n",
            "\u001b[?25hRequirement already satisfied: numpy>=1.17 in /usr/local/lib/python3.10/dist-packages (from pytorch_tabnet) (1.23.5)\n",
            "Requirement already satisfied: scikit_learn>0.21 in /usr/local/lib/python3.10/dist-packages (from pytorch_tabnet) (1.2.2)\n",
            "Requirement already satisfied: scipy>1.4 in /usr/local/lib/python3.10/dist-packages (from pytorch_tabnet) (1.11.3)\n",
            "Requirement already satisfied: torch>=1.3 in /usr/local/lib/python3.10/dist-packages (from pytorch_tabnet) (2.1.0+cu118)\n",
            "Requirement already satisfied: tqdm>=4.36 in /usr/local/lib/python3.10/dist-packages (from pytorch_tabnet) (4.66.1)\n",
            "Requirement already satisfied: joblib>=1.1.1 in /usr/local/lib/python3.10/dist-packages (from scikit_learn>0.21->pytorch_tabnet) (1.3.2)\n",
            "Requirement already satisfied: threadpoolctl>=2.0.0 in /usr/local/lib/python3.10/dist-packages (from scikit_learn>0.21->pytorch_tabnet) (3.2.0)\n",
            "Requirement already satisfied: filelock in /usr/local/lib/python3.10/dist-packages (from torch>=1.3->pytorch_tabnet) (3.13.1)\n",
            "Requirement already satisfied: typing-extensions in /usr/local/lib/python3.10/dist-packages (from torch>=1.3->pytorch_tabnet) (4.5.0)\n",
            "Requirement already satisfied: sympy in /usr/local/lib/python3.10/dist-packages (from torch>=1.3->pytorch_tabnet) (1.12)\n",
            "Requirement already satisfied: networkx in /usr/local/lib/python3.10/dist-packages (from torch>=1.3->pytorch_tabnet) (3.2.1)\n",
            "Requirement already satisfied: jinja2 in /usr/local/lib/python3.10/dist-packages (from torch>=1.3->pytorch_tabnet) (3.1.2)\n",
            "Requirement already satisfied: fsspec in /usr/local/lib/python3.10/dist-packages (from torch>=1.3->pytorch_tabnet) (2023.6.0)\n",
            "Requirement already satisfied: triton==2.1.0 in /usr/local/lib/python3.10/dist-packages (from torch>=1.3->pytorch_tabnet) (2.1.0)\n",
            "Requirement already satisfied: MarkupSafe>=2.0 in /usr/local/lib/python3.10/dist-packages (from jinja2->torch>=1.3->pytorch_tabnet) (2.1.3)\n",
            "Requirement already satisfied: mpmath>=0.19 in /usr/local/lib/python3.10/dist-packages (from sympy->torch>=1.3->pytorch_tabnet) (1.3.0)\n",
            "Installing collected packages: pytorch_tabnet\n",
            "Successfully installed pytorch_tabnet-4.1.0\n"
          ]
        }
      ]
    },
    {
      "cell_type": "code",
      "execution_count": null,
      "metadata": {
        "id": "zEPX1Q8XVsQJ"
      },
      "outputs": [],
      "source": [
        "from pytorch_tabnet.tab_model import TabNetClassifier\n",
        "\n",
        "import torch\n",
        "from sklearn.preprocessing import LabelEncoder\n",
        "from sklearn.metrics import roc_auc_score\n",
        "\n",
        "import pandas as pd\n",
        "import numpy as np\n",
        "np.random.seed(0)\n",
        "\n",
        "\n",
        "import os\n",
        "# import wget\n",
        "from pathlib import Path\n",
        "\n",
        "from matplotlib import pyplot as plt\n",
        "%matplotlib inline"
      ]
    },
    {
      "cell_type": "code",
      "source": [
        "clf = TabNetClassifier(\n",
        "  n_d=64, n_a=64, n_steps=5,\n",
        "  gamma=1.5, n_independent=2, n_shared=2,\n",
        "  cat_idxs=cat_idxs,\n",
        "  cat_dims=cat_dims,\n",
        "  cat_emb_dim=1,\n",
        "  lambda_sparse=1e-4, momentum=0.3, clip_value=2.,\n",
        "  optimizer_fn=torch.optim.Adam,\n",
        "  optimizer_params=dict(lr=2e-2),\n",
        "  scheduler_params = {\"gamma\": 0.95, \"step_size\": 20},\n",
        "  scheduler_fn=torch.optim.lr_scheduler.StepLR, epsilon=1e-15\n",
        ")"
      ],
      "metadata": {
        "id": "nr50h2y7Wl2H",
        "colab": {
          "base_uri": "https://localhost:8080/"
        },
        "outputId": "baf9b0ef-ef1f-43ad-d865-3b7689af2717"
      },
      "execution_count": null,
      "outputs": [
        {
          "output_type": "stream",
          "name": "stderr",
          "text": [
            "/usr/local/lib/python3.10/dist-packages/pytorch_tabnet/abstract_model.py:82: UserWarning: Device used : cpu\n",
            "  warnings.warn(f\"Device used : {self.device}\")\n"
          ]
        }
      ]
    },
    {
      "cell_type": "code",
      "source": [
        "if os.getenv(\"CI\", False):\n",
        "# Take only a subsample to run CI\n",
        "    X_train = train[features].values[train_indices][:1000,:]\n",
        "    y_train = train[target].values[train_indices][:1000]\n",
        "else:\n",
        "    X_train = train[features].values[train_indices]\n",
        "    y_train = train[target].values[train_indices]\n",
        "\n",
        "X_valid = train[features].values[valid_indices]\n",
        "y_valid = train[target].values[valid_indices]\n",
        "\n",
        "X_test = train[features].values[test_indices]\n",
        "y_test = train[target].values[test_indices]"
      ],
      "metadata": {
        "id": "poQ0u1tzaeu0"
      },
      "execution_count": null,
      "outputs": []
    },
    {
      "cell_type": "code",
      "source": [
        "max_epochs = 100"
      ],
      "metadata": {
        "id": "FT9Avv1Tag84"
      },
      "execution_count": null,
      "outputs": []
    },
    {
      "cell_type": "code",
      "source": [
        "from pytorch_tabnet.augmentations import ClassificationSMOTE\n",
        "aug = ClassificationSMOTE(p=0.2)\n",
        "\n",
        "clf.fit(\n",
        "  X_train=X_train, y_train=y_train,\n",
        "  eval_set=[(X_train, y_train), (X_valid, y_valid)],\n",
        "  eval_name=['train', 'valid'],\n",
        "  max_epochs=max_epochs\n",
        ")"
      ],
      "metadata": {
        "colab": {
          "base_uri": "https://localhost:8080/"
        },
        "id": "ozvQ5liGaiwI",
        "outputId": "934edc2b-889b-41b0-aab5-60e0b45af98a"
      },
      "execution_count": null,
      "outputs": [
        {
          "output_type": "stream",
          "name": "stdout",
          "text": [
            "epoch 0  | loss: 0.79866 | train_accuracy: 0.23174 | valid_accuracy: 0.23203 |  0:00:44s\n",
            "epoch 1  | loss: 0.22496 | train_accuracy: 0.67812 | valid_accuracy: 0.67818 |  0:01:02s\n",
            "epoch 2  | loss: 0.2028  | train_accuracy: 0.70576 | valid_accuracy: 0.70826 |  0:01:19s\n",
            "epoch 3  | loss: 0.19793 | train_accuracy: 0.70871 | valid_accuracy: 0.71146 |  0:01:36s\n",
            "epoch 4  | loss: 0.19313 | train_accuracy: 0.72535 | valid_accuracy: 0.72662 |  0:01:53s\n",
            "epoch 5  | loss: 0.18807 | train_accuracy: 0.6522  | valid_accuracy: 0.65302 |  0:02:11s\n",
            "epoch 6  | loss: 0.18859 | train_accuracy: 0.84408 | valid_accuracy: 0.84381 |  0:02:28s\n",
            "epoch 7  | loss: 0.18361 | train_accuracy: 0.73111 | valid_accuracy: 0.73404 |  0:02:45s\n",
            "epoch 8  | loss: 0.19414 | train_accuracy: 0.77408 | valid_accuracy: 0.77798 |  0:03:02s\n",
            "epoch 9  | loss: 0.18626 | train_accuracy: 0.75767 | valid_accuracy: 0.75877 |  0:03:19s\n",
            "epoch 10 | loss: 0.1838  | train_accuracy: 0.55248 | valid_accuracy: 0.55261 |  0:03:37s\n",
            "epoch 11 | loss: 0.18311 | train_accuracy: 0.8056  | valid_accuracy: 0.8072  |  0:03:55s\n",
            "epoch 12 | loss: 0.1812  | train_accuracy: 0.34758 | valid_accuracy: 0.34624 |  0:04:13s\n",
            "epoch 13 | loss: 0.18055 | train_accuracy: 0.95396 | valid_accuracy: 0.95304 |  0:04:30s\n",
            "epoch 14 | loss: 0.1794  | train_accuracy: 0.95427 | valid_accuracy: 0.95362 |  0:04:48s\n",
            "epoch 15 | loss: 0.1796  | train_accuracy: 0.95418 | valid_accuracy: 0.9535  |  0:05:06s\n",
            "epoch 16 | loss: 0.17868 | train_accuracy: 0.95429 | valid_accuracy: 0.95366 |  0:05:23s\n",
            "epoch 17 | loss: 0.17857 | train_accuracy: 0.95414 | valid_accuracy: 0.9535  |  0:05:41s\n",
            "epoch 18 | loss: 0.1813  | train_accuracy: 0.95418 | valid_accuracy: 0.9535  |  0:05:57s\n",
            "epoch 19 | loss: 0.17872 | train_accuracy: 0.95433 | valid_accuracy: 0.95377 |  0:06:14s\n",
            "epoch 20 | loss: 0.17885 | train_accuracy: 0.95427 | valid_accuracy: 0.95366 |  0:06:32s\n",
            "epoch 21 | loss: 0.17854 | train_accuracy: 0.95427 | valid_accuracy: 0.9537  |  0:06:48s\n",
            "epoch 22 | loss: 0.18043 | train_accuracy: 0.95427 | valid_accuracy: 0.9537  |  0:07:05s\n",
            "epoch 23 | loss: 0.17855 | train_accuracy: 0.95427 | valid_accuracy: 0.95366 |  0:07:22s\n",
            "epoch 24 | loss: 0.17781 | train_accuracy: 0.95427 | valid_accuracy: 0.9537  |  0:07:39s\n",
            "epoch 25 | loss: 0.17966 | train_accuracy: 0.95427 | valid_accuracy: 0.9537  |  0:07:56s\n",
            "epoch 26 | loss: 0.17767 | train_accuracy: 0.95433 | valid_accuracy: 0.95373 |  0:08:12s\n",
            "epoch 27 | loss: 0.17888 | train_accuracy: 0.95275 | valid_accuracy: 0.95153 |  0:08:29s\n",
            "epoch 28 | loss: 0.1791  | train_accuracy: 0.95408 | valid_accuracy: 0.95315 |  0:08:46s\n",
            "epoch 29 | loss: 0.17763 | train_accuracy: 0.95433 | valid_accuracy: 0.95377 |  0:09:03s\n",
            "\n",
            "Early stopping occurred at epoch 29 with best_epoch = 19 and best_valid_accuracy = 0.95377\n"
          ]
        },
        {
          "output_type": "stream",
          "name": "stderr",
          "text": [
            "/usr/local/lib/python3.10/dist-packages/pytorch_tabnet/callbacks.py:172: UserWarning: Best weights from best epoch are automatically used!\n",
            "  warnings.warn(wrn_msg)\n"
          ]
        }
      ]
    },
    {
      "cell_type": "code",
      "source": [
        "# plot losses\n",
        "plt.plot(clf.history['loss'])"
      ],
      "metadata": {
        "id": "TzcP8b9ramu2",
        "colab": {
          "base_uri": "https://localhost:8080/",
          "height": 447
        },
        "outputId": "32ba761c-b3ef-47cd-c87e-bae58cc4d098"
      },
      "execution_count": null,
      "outputs": [
        {
          "output_type": "execute_result",
          "data": {
            "text/plain": [
              "[<matplotlib.lines.Line2D at 0x7da005323e50>]"
            ]
          },
          "metadata": {},
          "execution_count": 14
        },
        {
          "output_type": "display_data",
          "data": {
            "text/plain": [
              "<Figure size 640x480 with 1 Axes>"
            ],
            "image/png": "[encoded data removed]"
          },
          "metadata": {}
        }
      ]
    },
    {
      "cell_type": "code",
      "source": [
        "# plot accuracy\n",
        "plt.plot(clf.history['train_accuracy'])"
      ],
      "metadata": {
        "id": "1J5hvdiSan-h",
        "colab": {
          "base_uri": "https://localhost:8080/",
          "height": 447
        },
        "outputId": "27f7c3db-da8e-4298-cec7-c8755c91bf8a"
      },
      "execution_count": null,
      "outputs": [
        {
          "output_type": "execute_result",
          "data": {
            "text/plain": [
              "[<matplotlib.lines.Line2D at 0x7da00524e1d0>]"
            ]
          },
          "metadata": {},
          "execution_count": 15
        },
        {
          "output_type": "display_data",
          "data": {
            "text/plain": [
              "<Figure size 640x480 with 1 Axes>"
            ],
            "image/png": "[encoded data removed]"
          },
          "metadata": {}
        }
      ]
    },
    {
      "cell_type": "code",
      "source": [
        "plt.plot(clf.history['valid_accuracy'])"
      ],
      "metadata": {
        "id": "TBBs8B4M1z34",
        "colab": {
          "base_uri": "https://localhost:8080/",
          "height": 447
        },
        "outputId": "14600638-b50f-40e8-dd35-d10026fdd7ec"
      },
      "execution_count": null,
      "outputs": [
        {
          "output_type": "execute_result",
          "data": {
            "text/plain": [
              "[<matplotlib.lines.Line2D at 0x7da0052ccb80>]"
            ]
          },
          "metadata": {},
          "execution_count": 16
        },
        {
          "output_type": "display_data",
          "data": {
            "text/plain": [
              "<Figure size 640x480 with 1 Axes>"
            ],
            "image/png": "[encoded data removed]"
          },
          "metadata": {}
        }
      ]
    },
    {
      "cell_type": "code",
      "source": [
        "from sklearn.metrics import accuracy_score, precision_score, recall_score\n",
        "preds_mapper = { idx : class_name for idx, class_name in enumerate(clf.classes_)}\n",
        "\n",
        "preds = clf.predict_proba(X_test)\n",
        "\n",
        "y_pred = np.vectorize(preds_mapper.get)(np.argmax(preds, axis=1))\n",
        "\n",
        "test_acc = accuracy_score(y_pred=y_pred, y_true=y_test)\n",
        "test_pre = precision_score(y_pred=y_pred, y_true=y_test, average='weighted')\n",
        "test_rec = recall_score(y_pred=y_pred, y_true=y_test, average='weighted')\n",
        "\n",
        "print(f\"BEST VALID SCORE FOR gas dataset : {clf.best_cost}\")\n",
        "print(f\"FINAL TEST SCORE FOR gas dataset : {test_acc}\")\n",
        "print(f\"precision score : {test_pre}\")\n",
        "print(f\"recall score : {test_rec}\")"
      ],
      "metadata": {
        "id": "7HqF1pEfapgQ",
        "colab": {
          "base_uri": "https://localhost:8080/"
        },
        "outputId": "782c774f-d116-4d0c-8537-42a1d1eee4b1"
      },
      "execution_count": null,
      "outputs": [
        {
          "output_type": "stream",
          "name": "stdout",
          "text": [
            "BEST VALID SCORE FOR gas dataset : 0.9537724180581324\n",
            "FINAL TEST SCORE FOR gas dataset : 0.9528963100391672\n",
            "precision score : 0.9256090022186643\n",
            "recall score : 0.9528963100391672\n"
          ]
        },
        {
          "output_type": "stream",
          "name": "stderr",
          "text": [
            "/usr/local/lib/python3.10/dist-packages/sklearn/metrics/_classification.py:1344: UndefinedMetricWarning: Precision is ill-defined and being set to 0.0 in labels with no predicted samples. Use `zero_division` parameter to control this behavior.\n",
            "  _warn_prf(average, modifier, msg_start, len(result))\n"
          ]
        }
      ]
    },
    {
      "cell_type": "code",
      "source": [
        "# or you can simply use the predict method\n",
        "\n",
        "y_pred = clf.predict(X_test)\n",
        "test_acc = accuracy_score(y_pred=y_pred, y_true=y_test)\n",
        "print(f\"FINAL TEST SCORE FOR gas dataset : {test_acc}\")"
      ],
      "metadata": {
        "id": "jy0HrnjAarBG",
        "colab": {
          "base_uri": "https://localhost:8080/"
        },
        "outputId": "e3a7c3e1-4a8f-4546-aba8-61cf07f9f900"
      },
      "execution_count": null,
      "outputs": [
        {
          "output_type": "stream",
          "name": "stdout",
          "text": [
            "FINAL TEST SCORE FOR gas dataset : 0.9528963100391672\n"
          ]
        }
      ]
    },
    {
      "cell_type": "code",
      "source": [
        "plt.plot(clf.history['lr'])"
      ],
      "metadata": {
        "id": "x8g5r36YXJ-a",
        "colab": {
          "base_uri": "https://localhost:8080/",
          "height": 447
        },
        "outputId": "20092780-25ae-4498-db7f-176c5386bcb9"
      },
      "execution_count": null,
      "outputs": [
        {
          "output_type": "execute_result",
          "data": {
            "text/plain": [
              "[<matplotlib.lines.Line2D at 0x7da0052cf1c0>]"
            ]
          },
          "metadata": {},
          "execution_count": 19
        },
        {
          "output_type": "display_data",
          "data": {
            "text/plain": [
              "<Figure size 640x480 with 1 Axes>"
            ],
            "image/png": "[encoded data removed]"
          },
          "metadata": {}
        }
      ]
    },
    {
      "cell_type": "code",
      "source": [
        "# save state dict\n",
        "saved_filename = clf.save_model('tabnet_gas_model')"
      ],
      "metadata": {
        "id": "syWZ31tVXPMp"
      },
      "execution_count": null,
      "outputs": []
    },
    {
      "cell_type": "code",
      "source": [
        "# define new model and load save parameters\n",
        "loaded_clf = TabNetClassifier()\n",
        "loaded_clf.load_model(tabnet_gas_model.zip)"
      ],
      "metadata": {
        "id": "7IK1fcdBef29"
      },
      "execution_count": null,
      "outputs": []
    },
    {
      "cell_type": "code",
      "source": [
        "loaded_preds = loaded_clf.predict_proba(X_test)\n",
        "loaded_y_pred = np.vectorize(preds_mapper.get)(np.argmax(loaded_preds, axis=1))\n",
        "\n",
        "loaded_test_acc = accuracy_score(y_pred=loaded_y_pred, y_true=y_test)\n",
        "\n",
        "print(f\"FINAL TEST SCORE FOR gas data : {loaded_test_acc}\")"
      ],
      "metadata": {
        "colab": {
          "base_uri": "https://localhost:8080/"
        },
        "id": "M2rnh5j0eg7U",
        "outputId": "a66d6e09-7665-4f69-b4d0-acc85466a98e"
      },
      "execution_count": null,
      "outputs": [
        {
          "output_type": "stream",
          "name": "stdout",
          "text": [
            "FINAL TEST SCORE FOR gas data : 0.9528963100391672\n"
          ]
        }
      ]
    },
    {
      "cell_type": "code",
      "source": [
        "assert(test_acc == loaded_test_acc)"
      ],
      "metadata": {
        "id": "Nwtj7N0HeiGI"
      },
      "execution_count": null,
      "outputs": []
    },
    {
      "cell_type": "code",
      "source": [
        "clf.feature_importances_"
      ],
      "metadata": {
        "colab": {
          "base_uri": "https://localhost:8080/"
        },
        "id": "zkJ0ov6lejIO",
        "outputId": "982871c5-6270-448a-8a48-74821bcaef6c"
      },
      "execution_count": null,
      "outputs": [
        {
          "output_type": "execute_result",
          "data": {
            "text/plain": [
              "array([6.09774168e-02, 3.06703713e-03, 0.00000000e+00, 7.06234528e-02,\n",
              "       2.23372725e-03, 7.47551341e-02, 2.28058926e-02, 7.75178906e-05,\n",
              "       1.70744870e-01, 3.03993835e-03, 6.98019746e-02, 1.63200873e-02,\n",
              "       1.46113633e-01, 0.00000000e+00, 1.28187430e-02, 6.16493901e-03,\n",
              "       3.67539236e-03, 5.62362542e-04, 5.01523621e-02, 1.37279483e-01,\n",
              "       5.83201552e-02, 6.73386426e-02, 1.78294750e-02, 0.00000000e+00,\n",
              "       4.29229660e-03, 1.00546644e-03])"
            ]
          },
          "metadata": {},
          "execution_count": 24
        }
      ]
    },
    {
      "cell_type": "code",
      "source": [
        "explain_matrix, masks = clf.explain(X_test)"
      ],
      "metadata": {
        "id": "EteUQw3lekE9"
      },
      "execution_count": null,
      "outputs": []
    },
    {
      "cell_type": "code",
      "source": [
        "fig, axs = plt.subplots(1, 5, figsize=(20,20))\n",
        "\n",
        "for i in range(5):\n",
        "  axs[i].imshow(masks[i][:50])\n",
        "  axs[i].set_title(f\"mask {i}\")"
      ],
      "metadata": {
        "colab": {
          "base_uri": "https://localhost:8080/",
          "height": 418
        },
        "id": "bJzbee3belse",
        "outputId": "68dff9db-9c83-4db8-ea13-16b9a4cb4d0d"
      },
      "execution_count": null,
      "outputs": [
        {
          "output_type": "display_data",
          "data": {
            "text/plain": [
              "<Figure size 2000x2000 with 5 Axes>"
            ],
            "image/png": "[encoded data removed]"
          },
          "metadata": {}
        }
      ]
    },
    {
      "cell_type": "code",
      "source": [
        "from sklearn.metrics import f1_score\n",
        "test_f1 = f1_score(y_pred=y_pred, y_true=y_test, average='weighted')\n",
        "print(test_f1)"
      ],
      "metadata": {
        "colab": {
          "base_uri": "https://localhost:8080/"
        },
        "id": "LXOH0lhpjeds",
        "outputId": "d35b0707-ecd4-42bd-af93-189d9d836281"
      },
      "execution_count": null,
      "outputs": [
        {
          "output_type": "stream",
          "name": "stdout",
          "text": [
            "0.9389803770500416\n"
          ]
        }
      ]
    }
  ]
}