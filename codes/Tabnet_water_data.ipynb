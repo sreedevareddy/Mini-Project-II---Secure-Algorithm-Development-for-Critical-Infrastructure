{
  "nbformat": 4,
  "nbformat_minor": 0,
  "metadata": {
    "colab": {
      "provenance": []
    },
    "kernelspec": {
      "name": "python3",
      "display_name": "Python 3"
    },
    "language_info": {
      "name": "python"
    }
  },
  "cells": [
    {
      "cell_type": "code",
      "source": [
        "from scipy.io import arff\n",
        "import urllib.request\n",
        "import io\n",
        "\n",
        "url = \"http://www.ece.uah.edu/~thm0009/icsdatasets/water_final.arff\"\n",
        "ftpstream = urllib.request.urlopen(url)\n",
        "data, meta = arff.loadarff(io.StringIO(ftpstream.read().decode('utf-8')))"
      ],
      "metadata": {
        "id": "pb0N7krmV2SE"
      },
      "execution_count": null,
      "outputs": []
    },
    {
      "cell_type": "code",
      "source": [
        "import pandas as pd\n",
        "df = pd.DataFrame(data)\n",
        "df['result'] = df['result'].apply(lambda x: int(x.decode('utf-8')))\n",
        "df"
      ],
      "metadata": {
        "colab": {
          "base_uri": "https://localhost:8080/",
          "height": 443
        },
        "id": "M94xtONrV8Ur",
        "outputId": "de283511-287c-4023-cf39-6b6562c431b7"
      },
      "execution_count": null,
      "outputs": [
        {
          "output_type": "execute_result",
          "data": {
            "text/plain": [
              "        command_address  response_address  command_memory  response_memory  \\\n",
              "0                   7.0               7.0           183.0            233.0   \n",
              "1                   7.0               7.0           183.0            233.0   \n",
              "2                   7.0               7.0           183.0            233.0   \n",
              "3                   7.0               7.0           183.0            233.0   \n",
              "4                   7.0               7.0           183.0            233.0   \n",
              "...                 ...               ...             ...              ...   \n",
              "236174              7.0               7.0           183.0            233.0   \n",
              "236175              7.0               7.0           183.0            233.0   \n",
              "236176              7.0               7.0           183.0            233.0   \n",
              "236177              7.0               7.0           183.0            233.0   \n",
              "236178              7.0               7.0           183.0            233.0   \n",
              "\n",
              "        command_memory_count  response_memory_count  comm_read_function  \\\n",
              "0                        9.0                   10.0                 3.0   \n",
              "1                        9.0                   10.0                 3.0   \n",
              "2                        9.0                   10.0                 3.0   \n",
              "3                        9.0                   10.0                 3.0   \n",
              "4                        9.0                   10.0                 3.0   \n",
              "...                      ...                    ...                 ...   \n",
              "236174                  10.0                   10.0                 3.0   \n",
              "236175                  10.0                   10.0                 3.0   \n",
              "236176                  10.0                   10.0                 3.0   \n",
              "236177                  10.0                   10.0                 3.0   \n",
              "236178                  10.0                   10.0                 3.0   \n",
              "\n",
              "        comm_write_fun  resp_read_fun  resp_write_fun  ...   'H'   'L'    LL  \\\n",
              "0                 10.0            3.0            10.0  ...  80.0  20.0  10.0   \n",
              "1                 10.0            3.0            10.0  ...  80.0  20.0  10.0   \n",
              "2                 10.0            3.0            10.0  ...  80.0  20.0  10.0   \n",
              "3                 10.0            3.0            10.0  ...  80.0  20.0  10.0   \n",
              "4                 10.0            3.0            10.0  ...  80.0  20.0  10.0   \n",
              "...                ...            ...             ...  ...   ...   ...   ...   \n",
              "236174            10.0            3.0            10.0  ...  80.0  20.0  10.0   \n",
              "236175            10.0            3.0            10.0  ...  80.0  20.0  10.0   \n",
              "236176            10.0            3.0            10.0  ...  80.0  20.0  10.0   \n",
              "236177            10.0            3.0            10.0  ...  80.0  20.0  10.0   \n",
              "236178            10.0            3.0            10.0  ...  80.0  20.0  10.0   \n",
              "\n",
              "        control_mode  control_scheme  pump  crc_rate  measurement  time  \\\n",
              "0                2.0             1.0   0.0       1.0    14.894827  1.13   \n",
              "1                2.0             1.0   0.0       1.0    16.259237  1.25   \n",
              "2                2.0             1.0   0.0       1.0    17.254122  1.04   \n",
              "3                2.0             1.0   0.0       1.0    17.936329  1.07   \n",
              "4                2.0             1.0   0.0       1.0    18.703810  1.20   \n",
              "...              ...             ...   ...       ...          ...   ...   \n",
              "236174           2.0             1.0   0.0       0.0    89.198410  1.30   \n",
              "236175           2.0             1.0   0.0       0.0    89.567932  1.20   \n",
              "236176           2.0             1.0   0.0       0.0    88.317230  1.05   \n",
              "236177           2.0             1.0   0.0       0.0    88.374077  1.07   \n",
              "236178           2.0             1.0   0.0       0.0    88.459358  1.05   \n",
              "\n",
              "        result  \n",
              "0            0  \n",
              "1            0  \n",
              "2            0  \n",
              "3            0  \n",
              "4            0  \n",
              "...        ...  \n",
              "236174       0  \n",
              "236175       0  \n",
              "236176       0  \n",
              "236177       0  \n",
              "236178       0  \n",
              "\n",
              "[236179 rows x 24 columns]"
            ],
            "text/html": [
              "\n",
              "  <div id=\"df-b67d60a7-b07a-420f-849d-0eaad2be65be\" class=\"colab-df-container\">\n",
              "    <div>\n",
              "<style scoped>\n",
              "    .dataframe tbody tr th:only-of-type {\n",
              "        vertical-align: middle;\n",
              "    }\n",
              "\n",
              "    .dataframe tbody tr th {\n",
              "        vertical-align: top;\n",
              "    }\n",
              "\n",
              "    .dataframe thead th {\n",
              "        text-align: right;\n",
              "    }\n",
              "</style>\n",
              "<table border=\"1\" class=\"dataframe\">\n",
              "  <thead>\n",
              "    <tr style=\"text-align: right;\">\n",
              "      <th></th>\n",
              "      <th>command_address</th>\n",
              "      <th>response_address</th>\n",
              "      <th>command_memory</th>\n",
              "      <th>response_memory</th>\n",
              "      <th>command_memory_count</th>\n",
              "      <th>response_memory_count</th>\n",
              "      <th>comm_read_function</th>\n",
              "      <th>comm_write_fun</th>\n",
              "      <th>resp_read_fun</th>\n",
              "      <th>resp_write_fun</th>\n",
              "      <th>...</th>\n",
              "      <th>'H'</th>\n",
              "      <th>'L'</th>\n",
              "      <th>LL</th>\n",
              "      <th>control_mode</th>\n",
              "      <th>control_scheme</th>\n",
              "      <th>pump</th>\n",
              "      <th>crc_rate</th>\n",
              "      <th>measurement</th>\n",
              "      <th>time</th>\n",
              "      <th>result</th>\n",
              "    </tr>\n",
              "  </thead>\n",
              "  <tbody>\n",
              "    <tr>\n",
              "      <th>0</th>\n",
              "      <td>7.0</td>\n",
              "      <td>7.0</td>\n",
              "      <td>183.0</td>\n",
              "      <td>233.0</td>\n",
              "      <td>9.0</td>\n",
              "      <td>10.0</td>\n",
              "      <td>3.0</td>\n",
              "      <td>10.0</td>\n",
              "      <td>3.0</td>\n",
              "      <td>10.0</td>\n",
              "      <td>...</td>\n",
              "      <td>80.0</td>\n",
              "      <td>20.0</td>\n",
              "      <td>10.0</td>\n",
              "      <td>2.0</td>\n",
              "      <td>1.0</td>\n",
              "      <td>0.0</td>\n",
              "      <td>1.0</td>\n",
              "      <td>14.894827</td>\n",
              "      <td>1.13</td>\n",
              "      <td>0</td>\n",
              "    </tr>\n",
              "    <tr>\n",
              "      <th>1</th>\n",
              "      <td>7.0</td>\n",
              "      <td>7.0</td>\n",
              "      <td>183.0</td>\n",
              "      <td>233.0</td>\n",
              "      <td>9.0</td>\n",
              "      <td>10.0</td>\n",
              "      <td>3.0</td>\n",
              "      <td>10.0</td>\n",
              "      <td>3.0</td>\n",
              "      <td>10.0</td>\n",
              "      <td>...</td>\n",
              "      <td>80.0</td>\n",
              "      <td>20.0</td>\n",
              "      <td>10.0</td>\n",
              "      <td>2.0</td>\n",
              "      <td>1.0</td>\n",
              "      <td>0.0</td>\n",
              "      <td>1.0</td>\n",
              "      <td>16.259237</td>\n",
              "      <td>1.25</td>\n",
              "      <td>0</td>\n",
              "    </tr>\n",
              "    <tr>\n",
              "      <th>2</th>\n",
              "      <td>7.0</td>\n",
              "      <td>7.0</td>\n",
              "      <td>183.0</td>\n",
              "      <td>233.0</td>\n",
              "      <td>9.0</td>\n",
              "      <td>10.0</td>\n",
              "      <td>3.0</td>\n",
              "      <td>10.0</td>\n",
              "      <td>3.0</td>\n",
              "      <td>10.0</td>\n",
              "      <td>...</td>\n",
              "      <td>80.0</td>\n",
              "      <td>20.0</td>\n",
              "      <td>10.0</td>\n",
              "      <td>2.0</td>\n",
              "      <td>1.0</td>\n",
              "      <td>0.0</td>\n",
              "      <td>1.0</td>\n",
              "      <td>17.254122</td>\n",
              "      <td>1.04</td>\n",
              "      <td>0</td>\n",
              "    </tr>\n",
              "    <tr>\n",
              "      <th>3</th>\n",
              "      <td>7.0</td>\n",
              "      <td>7.0</td>\n",
              "      <td>183.0</td>\n",
              "      <td>233.0</td>\n",
              "      <td>9.0</td>\n",
              "      <td>10.0</td>\n",
              "      <td>3.0</td>\n",
              "      <td>10.0</td>\n",
              "      <td>3.0</td>\n",
              "      <td>10.0</td>\n",
              "      <td>...</td>\n",
              "      <td>80.0</td>\n",
              "      <td>20.0</td>\n",
              "      <td>10.0</td>\n",
              "      <td>2.0</td>\n",
              "      <td>1.0</td>\n",
              "      <td>0.0</td>\n",
              "      <td>1.0</td>\n",
              "      <td>17.936329</td>\n",
              "      <td>1.07</td>\n",
              "      <td>0</td>\n",
              "    </tr>\n",
              "    <tr>\n",
              "      <th>4</th>\n",
              "      <td>7.0</td>\n",
              "      <td>7.0</td>\n",
              "      <td>183.0</td>\n",
              "      <td>233.0</td>\n",
              "      <td>9.0</td>\n",
              "      <td>10.0</td>\n",
              "      <td>3.0</td>\n",
              "      <td>10.0</td>\n",
              "      <td>3.0</td>\n",
              "      <td>10.0</td>\n",
              "      <td>...</td>\n",
              "      <td>80.0</td>\n",
              "      <td>20.0</td>\n",
              "      <td>10.0</td>\n",
              "      <td>2.0</td>\n",
              "      <td>1.0</td>\n",
              "      <td>0.0</td>\n",
              "      <td>1.0</td>\n",
              "      <td>18.703810</td>\n",
              "      <td>1.20</td>\n",
              "      <td>0</td>\n",
              "    </tr>\n",
              "    <tr>\n",
              "      <th>...</th>\n",
              "      <td>...</td>\n",
              "      <td>...</td>\n",
              "      <td>...</td>\n",
              "      <td>...</td>\n",
              "      <td>...</td>\n",
              "      <td>...</td>\n",
              "      <td>...</td>\n",
              "      <td>...</td>\n",
              "      <td>...</td>\n",
              "      <td>...</td>\n",
              "      <td>...</td>\n",
              "      <td>...</td>\n",
              "      <td>...</td>\n",
              "      <td>...</td>\n",
              "      <td>...</td>\n",
              "      <td>...</td>\n",
              "      <td>...</td>\n",
              "      <td>...</td>\n",
              "      <td>...</td>\n",
              "      <td>...</td>\n",
              "      <td>...</td>\n",
              "    </tr>\n",
              "    <tr>\n",
              "      <th>236174</th>\n",
              "      <td>7.0</td>\n",
              "      <td>7.0</td>\n",
              "      <td>183.0</td>\n",
              "      <td>233.0</td>\n",
              "      <td>10.0</td>\n",
              "      <td>10.0</td>\n",
              "      <td>3.0</td>\n",
              "      <td>10.0</td>\n",
              "      <td>3.0</td>\n",
              "      <td>10.0</td>\n",
              "      <td>...</td>\n",
              "      <td>80.0</td>\n",
              "      <td>20.0</td>\n",
              "      <td>10.0</td>\n",
              "      <td>2.0</td>\n",
              "      <td>1.0</td>\n",
              "      <td>0.0</td>\n",
              "      <td>0.0</td>\n",
              "      <td>89.198410</td>\n",
              "      <td>1.30</td>\n",
              "      <td>0</td>\n",
              "    </tr>\n",
              "    <tr>\n",
              "      <th>236175</th>\n",
              "      <td>7.0</td>\n",
              "      <td>7.0</td>\n",
              "      <td>183.0</td>\n",
              "      <td>233.0</td>\n",
              "      <td>10.0</td>\n",
              "      <td>10.0</td>\n",
              "      <td>3.0</td>\n",
              "      <td>10.0</td>\n",
              "      <td>3.0</td>\n",
              "      <td>10.0</td>\n",
              "      <td>...</td>\n",
              "      <td>80.0</td>\n",
              "      <td>20.0</td>\n",
              "      <td>10.0</td>\n",
              "      <td>2.0</td>\n",
              "      <td>1.0</td>\n",
              "      <td>0.0</td>\n",
              "      <td>0.0</td>\n",
              "      <td>89.567932</td>\n",
              "      <td>1.20</td>\n",
              "      <td>0</td>\n",
              "    </tr>\n",
              "    <tr>\n",
              "      <th>236176</th>\n",
              "      <td>7.0</td>\n",
              "      <td>7.0</td>\n",
              "      <td>183.0</td>\n",
              "      <td>233.0</td>\n",
              "      <td>10.0</td>\n",
              "      <td>10.0</td>\n",
              "      <td>3.0</td>\n",
              "      <td>10.0</td>\n",
              "      <td>3.0</td>\n",
              "      <td>10.0</td>\n",
              "      <td>...</td>\n",
              "      <td>80.0</td>\n",
              "      <td>20.0</td>\n",
              "      <td>10.0</td>\n",
              "      <td>2.0</td>\n",
              "      <td>1.0</td>\n",
              "      <td>0.0</td>\n",
              "      <td>0.0</td>\n",
              "      <td>88.317230</td>\n",
              "      <td>1.05</td>\n",
              "      <td>0</td>\n",
              "    </tr>\n",
              "    <tr>\n",
              "      <th>236177</th>\n",
              "      <td>7.0</td>\n",
              "      <td>7.0</td>\n",
              "      <td>183.0</td>\n",
              "      <td>233.0</td>\n",
              "      <td>10.0</td>\n",
              "      <td>10.0</td>\n",
              "      <td>3.0</td>\n",
              "      <td>10.0</td>\n",
              "      <td>3.0</td>\n",
              "      <td>10.0</td>\n",
              "      <td>...</td>\n",
              "      <td>80.0</td>\n",
              "      <td>20.0</td>\n",
              "      <td>10.0</td>\n",
              "      <td>2.0</td>\n",
              "      <td>1.0</td>\n",
              "      <td>0.0</td>\n",
              "      <td>0.0</td>\n",
              "      <td>88.374077</td>\n",
              "      <td>1.07</td>\n",
              "      <td>0</td>\n",
              "    </tr>\n",
              "    <tr>\n",
              "      <th>236178</th>\n",
              "      <td>7.0</td>\n",
              "      <td>7.0</td>\n",
              "      <td>183.0</td>\n",
              "      <td>233.0</td>\n",
              "      <td>10.0</td>\n",
              "      <td>10.0</td>\n",
              "      <td>3.0</td>\n",
              "      <td>10.0</td>\n",
              "      <td>3.0</td>\n",
              "      <td>10.0</td>\n",
              "      <td>...</td>\n",
              "      <td>80.0</td>\n",
              "      <td>20.0</td>\n",
              "      <td>10.0</td>\n",
              "      <td>2.0</td>\n",
              "      <td>1.0</td>\n",
              "      <td>0.0</td>\n",
              "      <td>0.0</td>\n",
              "      <td>88.459358</td>\n",
              "      <td>1.05</td>\n",
              "      <td>0</td>\n",
              "    </tr>\n",
              "  </tbody>\n",
              "</table>\n",
              "<p>236179 rows × 24 columns</p>\n",
              "</div>\n",
              "    <div class=\"colab-df-buttons\">\n",
              "\n",
              "  <div class=\"colab-df-container\">\n",
              "    <button class=\"colab-df-convert\" onclick=\"convertToInteractive('df-b67d60a7-b07a-420f-849d-0eaad2be65be')\"\n",
              "            title=\"Convert this dataframe to an interactive table.\"\n",
              "            style=\"display:none;\">\n",
              "\n",
              "  <svg xmlns=\"http://www.w3.org/2000/svg\" height=\"24px\" viewBox=\"0 -960 960 960\">\n",
              "    <path d=\"M120-120v-720h720v720H120Zm60-500h600v-160H180v160Zm220 220h160v-160H400v160Zm0 220h160v-160H400v160ZM180-400h160v-160H180v160Zm440 0h160v-160H620v160ZM180-180h160v-160H180v160Zm440 0h160v-160H620v160Z\"/>\n",
              "  </svg>\n",
              "    </button>\n",
              "\n",
              "  <style>\n",
              "    .colab-df-container {\n",
              "      display:flex;\n",
              "      gap: 12px;\n",
              "    }\n",
              "\n",
              "    .colab-df-convert {\n",
              "      background-color: #E8F0FE;\n",
              "      border: none;\n",
              "      border-radius: 50%;\n",
              "      cursor: pointer;\n",
              "      display: none;\n",
              "      fill: #1967D2;\n",
              "      height: 32px;\n",
              "      padding: 0 0 0 0;\n",
              "      width: 32px;\n",
              "    }\n",
              "\n",
              "    .colab-df-convert:hover {\n",
              "      background-color: #E2EBFA;\n",
              "      box-shadow: 0px 1px 2px rgba(60, 64, 67, 0.3), 0px 1px 3px 1px rgba(60, 64, 67, 0.15);\n",
              "      fill: #174EA6;\n",
              "    }\n",
              "\n",
              "    .colab-df-buttons div {\n",
              "      margin-bottom: 4px;\n",
              "    }\n",
              "\n",
              "    [theme=dark] .colab-df-convert {\n",
              "      background-color: #3B4455;\n",
              "      fill: #D2E3FC;\n",
              "    }\n",
              "\n",
              "    [theme=dark] .colab-df-convert:hover {\n",
              "      background-color: #434B5C;\n",
              "      box-shadow: 0px 1px 3px 1px rgba(0, 0, 0, 0.15);\n",
              "      filter: drop-shadow(0px 1px 2px rgba(0, 0, 0, 0.3));\n",
              "      fill: #FFFFFF;\n",
              "    }\n",
              "  </style>\n",
              "\n",
              "    <script>\n",
              "      const buttonEl =\n",
              "        document.querySelector('#df-b67d60a7-b07a-420f-849d-0eaad2be65be button.colab-df-convert');\n",
              "      buttonEl.style.display =\n",
              "        google.colab.kernel.accessAllowed ? 'block' : 'none';\n",
              "\n",
              "      async function convertToInteractive(key) {\n",
              "        const element = document.querySelector('#df-b67d60a7-b07a-420f-849d-0eaad2be65be');\n",
              "        const dataTable =\n",
              "          await google.colab.kernel.invokeFunction('convertToInteractive',\n",
              "                                                    [key], {});\n",
              "        if (!dataTable) return;\n",
              "\n",
              "        const docLinkHtml = 'Like what you see? Visit the ' +\n",
              "          '<a target=\"_blank\" href=https://colab.research.google.com/notebooks/data_table.ipynb>data table notebook</a>'\n",
              "          + ' to learn more about interactive tables.';\n",
              "        element.innerHTML = '';\n",
              "        dataTable['output_type'] = 'display_data';\n",
              "        await google.colab.output.renderOutput(dataTable, element);\n",
              "        const docLink = document.createElement('div');\n",
              "        docLink.innerHTML = docLinkHtml;\n",
              "        element.appendChild(docLink);\n",
              "      }\n",
              "    </script>\n",
              "  </div>\n",
              "\n",
              "\n",
              "<div id=\"df-698dffc6-8672-4e66-89ec-74db81615dab\">\n",
              "  <button class=\"colab-df-quickchart\" onclick=\"quickchart('df-698dffc6-8672-4e66-89ec-74db81615dab')\"\n",
              "            title=\"Suggest charts.\"\n",
              "            style=\"display:none;\">\n",
              "\n",
              "<svg xmlns=\"http://www.w3.org/2000/svg\" height=\"24px\"viewBox=\"0 0 24 24\"\n",
              "     width=\"24px\">\n",
              "    <g>\n",
              "        <path d=\"M19 3H5c-1.1 0-2 .9-2 2v14c0 1.1.9 2 2 2h14c1.1 0 2-.9 2-2V5c0-1.1-.9-2-2-2zM9 17H7v-7h2v7zm4 0h-2V7h2v10zm4 0h-2v-4h2v4z\"/>\n",
              "    </g>\n",
              "</svg>\n",
              "  </button>\n",
              "\n",
              "<style>\n",
              "  .colab-df-quickchart {\n",
              "      --bg-color: #E8F0FE;\n",
              "      --fill-color: #1967D2;\n",
              "      --hover-bg-color: #E2EBFA;\n",
              "      --hover-fill-color: #174EA6;\n",
              "      --disabled-fill-color: #AAA;\n",
              "      --disabled-bg-color: #DDD;\n",
              "  }\n",
              "\n",
              "  [theme=dark] .colab-df-quickchart {\n",
              "      --bg-color: #3B4455;\n",
              "      --fill-color: #D2E3FC;\n",
              "      --hover-bg-color: #434B5C;\n",
              "      --hover-fill-color: #FFFFFF;\n",
              "      --disabled-bg-color: #3B4455;\n",
              "      --disabled-fill-color: #666;\n",
              "  }\n",
              "\n",
              "  .colab-df-quickchart {\n",
              "    background-color: var(--bg-color);\n",
              "    border: none;\n",
              "    border-radius: 50%;\n",
              "    cursor: pointer;\n",
              "    display: none;\n",
              "    fill: var(--fill-color);\n",
              "    height: 32px;\n",
              "    padding: 0;\n",
              "    width: 32px;\n",
              "  }\n",
              "\n",
              "  .colab-df-quickchart:hover {\n",
              "    background-color: var(--hover-bg-color);\n",
              "    box-shadow: 0 1px 2px rgba(60, 64, 67, 0.3), 0 1px 3px 1px rgba(60, 64, 67, 0.15);\n",
              "    fill: var(--button-hover-fill-color);\n",
              "  }\n",
              "\n",
              "  .colab-df-quickchart-complete:disabled,\n",
              "  .colab-df-quickchart-complete:disabled:hover {\n",
              "    background-color: var(--disabled-bg-color);\n",
              "    fill: var(--disabled-fill-color);\n",
              "    box-shadow: none;\n",
              "  }\n",
              "\n",
              "  .colab-df-spinner {\n",
              "    border: 2px solid var(--fill-color);\n",
              "    border-color: transparent;\n",
              "    border-bottom-color: var(--fill-color);\n",
              "    animation:\n",
              "      spin 1s steps(1) infinite;\n",
              "  }\n",
              "\n",
              "  @keyframes spin {\n",
              "    0% {\n",
              "      border-color: transparent;\n",
              "      border-bottom-color: var(--fill-color);\n",
              "      border-left-color: var(--fill-color);\n",
              "    }\n",
              "    20% {\n",
              "      border-color: transparent;\n",
              "      border-left-color: var(--fill-color);\n",
              "      border-top-color: var(--fill-color);\n",
              "    }\n",
              "    30% {\n",
              "      border-color: transparent;\n",
              "      border-left-color: var(--fill-color);\n",
              "      border-top-color: var(--fill-color);\n",
              "      border-right-color: var(--fill-color);\n",
              "    }\n",
              "    40% {\n",
              "      border-color: transparent;\n",
              "      border-right-color: var(--fill-color);\n",
              "      border-top-color: var(--fill-color);\n",
              "    }\n",
              "    60% {\n",
              "      border-color: transparent;\n",
              "      border-right-color: var(--fill-color);\n",
              "    }\n",
              "    80% {\n",
              "      border-color: transparent;\n",
              "      border-right-color: var(--fill-color);\n",
              "      border-bottom-color: var(--fill-color);\n",
              "    }\n",
              "    90% {\n",
              "      border-color: transparent;\n",
              "      border-bottom-color: var(--fill-color);\n",
              "    }\n",
              "  }\n",
              "</style>\n",
              "\n",
              "  <script>\n",
              "    async function quickchart(key) {\n",
              "      const quickchartButtonEl =\n",
              "        document.querySelector('#' + key + ' button');\n",
              "      quickchartButtonEl.disabled = true;  // To prevent multiple clicks.\n",
              "      quickchartButtonEl.classList.add('colab-df-spinner');\n",
              "      try {\n",
              "        const charts = await google.colab.kernel.invokeFunction(\n",
              "            'suggestCharts', [key], {});\n",
              "      } catch (error) {\n",
              "        console.error('Error during call to suggestCharts:', error);\n",
              "      }\n",
              "      quickchartButtonEl.classList.remove('colab-df-spinner');\n",
              "      quickchartButtonEl.classList.add('colab-df-quickchart-complete');\n",
              "    }\n",
              "    (() => {\n",
              "      let quickchartButtonEl =\n",
              "        document.querySelector('#df-698dffc6-8672-4e66-89ec-74db81615dab button');\n",
              "      quickchartButtonEl.style.display =\n",
              "        google.colab.kernel.accessAllowed ? 'block' : 'none';\n",
              "    })();\n",
              "  </script>\n",
              "</div>\n",
              "    </div>\n",
              "  </div>\n"
            ]
          },
          "metadata": {},
          "execution_count": 2
        }
      ]
    },
    {
      "cell_type": "code",
      "source": [
        "import pandas as pd\n",
        "\n",
        "# Assuming 'df' is your DataFrame\n",
        "column_names = df.columns.tolist()  # Convert to a list if needed\n",
        "\n",
        "# If you just want to print the column names\n",
        "print(column_names)"
      ],
      "metadata": {
        "colab": {
          "base_uri": "https://localhost:8080/"
        },
        "id": "q_V_nQvIYs3K",
        "outputId": "93b2fe99-aa4a-45c7-a53b-b62fa10f2a8d"
      },
      "execution_count": null,
      "outputs": [
        {
          "output_type": "stream",
          "name": "stdout",
          "text": [
            "['command_address', 'response_address', 'command_memory', 'response_memory', 'command_memory_count', 'response_memory_count', 'comm_read_function', 'comm_write_fun', 'resp_read_fun', 'resp_write_fun', 'sub_function', 'command_length', 'resp_length', 'HH', \"'H'\", \"'L'\", 'LL', 'control_mode', 'control_scheme', 'pump', 'crc_rate', 'measurement', 'time', 'result']\n"
          ]
        }
      ]
    },
    {
      "cell_type": "code",
      "source": [
        "target = \"result\"\n",
        "\n",
        "int_columns = ['command_address', 'response_address', 'command_memory', 'response_memory', 'command_memory_count', 'response_memory_count', 'comm_read_function', 'comm_write_fun', 'resp_read_fun', 'resp_write_fun', 'sub_function', 'command_length', 'resp_length', 'HH', \"'H'\", \"'L'\", 'LL', 'control_mode', 'control_scheme', 'pump', 'crc_rate', 'measurement', 'time']\n",
        "bool_columns = []\n",
        "\n",
        "feature_columns = (int_columns + bool_columns + [target])"
      ],
      "metadata": {
        "id": "i247ISgBYi-X"
      },
      "execution_count": null,
      "outputs": []
    },
    {
      "cell_type": "code",
      "source": [
        "from sklearn.model_selection import train_test_split\n",
        "train = df\n",
        "n_total = len(train)\n",
        "\n",
        "train_val_indices, test_indices = train_test_split(\n",
        "    range(n_total), test_size=0.2, random_state=0)\n",
        "train_indices, valid_indices = train_test_split(\n",
        "    train_val_indices, test_size=0.2 / 0.6, random_state=0)"
      ],
      "metadata": {
        "id": "cLzItFELYDvU"
      },
      "execution_count": null,
      "outputs": []
    },
    {
      "cell_type": "code",
      "source": [
        "categorical_columns = []\n",
        "categorical_dims =  {}\n",
        "for col in train.columns[train.dtypes == object]:\n",
        "  print(col, train[col].nunique())\n",
        "  l_enc = LabelEncoder()\n",
        "  train[col] = train[col].fillna(\"VV_likely\")\n",
        "  train[col] = l_enc.fit_transform(train[col].values)\n",
        "  categorical_columns.append(col)\n",
        "  categorical_dims[col] = len(l_enc.classes_)\n",
        "\n",
        "for col in train.columns[train.dtypes == 'float64']:\n",
        "  train.fillna(train.loc[train_indices, col].mean(), inplace=True)"
      ],
      "metadata": {
        "id": "8aMlyR3_YQ_h"
      },
      "execution_count": null,
      "outputs": []
    },
    {
      "cell_type": "code",
      "source": [
        "unused_feat = []\n",
        "\n",
        "features = [ col for col in train.columns if col not in unused_feat+[target]]\n",
        "\n",
        "cat_idxs = [ i for i, f in enumerate(features) if f in categorical_columns]\n",
        "\n",
        "cat_dims = [ categorical_dims[f] for i, f in enumerate(features) if f in categorical_columns]\n"
      ],
      "metadata": {
        "id": "0n7DNhUhYUOc"
      },
      "execution_count": null,
      "outputs": []
    },
    {
      "cell_type": "code",
      "source": [
        "!pip install pytorch_tabnet"
      ],
      "metadata": {
        "colab": {
          "base_uri": "https://localhost:8080/"
        },
        "id": "lPSmFJZeXVAy",
        "outputId": "9f690c50-211a-42af-c701-ce53378e5cfc"
      },
      "execution_count": null,
      "outputs": [
        {
          "output_type": "stream",
          "name": "stdout",
          "text": [
            "Collecting pytorch_tabnet\n",
            "  Downloading pytorch_tabnet-4.1.0-py3-none-any.whl (44 kB)\n",
            "\u001b[?25l     \u001b[90m━━━━━━━━━━━━━━━━━━━━━━━━━━━━━━━━━━━━━━━━\u001b[0m \u001b[32m0.0/44.5 kB\u001b[0m \u001b[31m?\u001b[0m eta \u001b[36m-:--:--\u001b[0m\r\u001b[2K     \u001b[91m━━━━━━━━━━━━━━━━━━━━━━━━━━━━━━━━━━━━\u001b[0m\u001b[91m╸\u001b[0m\u001b[90m━━━\u001b[0m \u001b[32m41.0/44.5 kB\u001b[0m \u001b[31m1.0 MB/s\u001b[0m eta \u001b[36m0:00:01\u001b[0m\r\u001b[2K     \u001b[90m━━━━━━━━━━━━━━━━━━━━━━━━━━━━━━━━━━━━━━━━\u001b[0m \u001b[32m44.5/44.5 kB\u001b[0m \u001b[31m788.3 kB/s\u001b[0m eta \u001b[36m0:00:00\u001b[0m\n",
            "\u001b[?25hRequirement already satisfied: numpy>=1.17 in /usr/local/lib/python3.10/dist-packages (from pytorch_tabnet) (1.23.5)\n",
            "Requirement already satisfied: scikit_learn>0.21 in /usr/local/lib/python3.10/dist-packages (from pytorch_tabnet) (1.2.2)\n",
            "Requirement already satisfied: scipy>1.4 in /usr/local/lib/python3.10/dist-packages (from pytorch_tabnet) (1.11.3)\n",
            "Requirement already satisfied: torch>=1.3 in /usr/local/lib/python3.10/dist-packages (from pytorch_tabnet) (2.1.0+cu118)\n",
            "Requirement already satisfied: tqdm>=4.36 in /usr/local/lib/python3.10/dist-packages (from pytorch_tabnet) (4.66.1)\n",
            "Requirement already satisfied: joblib>=1.1.1 in /usr/local/lib/python3.10/dist-packages (from scikit_learn>0.21->pytorch_tabnet) (1.3.2)\n",
            "Requirement already satisfied: threadpoolctl>=2.0.0 in /usr/local/lib/python3.10/dist-packages (from scikit_learn>0.21->pytorch_tabnet) (3.2.0)\n",
            "Requirement already satisfied: filelock in /usr/local/lib/python3.10/dist-packages (from torch>=1.3->pytorch_tabnet) (3.12.4)\n",
            "Requirement already satisfied: typing-extensions in /usr/local/lib/python3.10/dist-packages (from torch>=1.3->pytorch_tabnet) (4.5.0)\n",
            "Requirement already satisfied: sympy in /usr/local/lib/python3.10/dist-packages (from torch>=1.3->pytorch_tabnet) (1.12)\n",
            "Requirement already satisfied: networkx in /usr/local/lib/python3.10/dist-packages (from torch>=1.3->pytorch_tabnet) (3.2)\n",
            "Requirement already satisfied: jinja2 in /usr/local/lib/python3.10/dist-packages (from torch>=1.3->pytorch_tabnet) (3.1.2)\n",
            "Requirement already satisfied: fsspec in /usr/local/lib/python3.10/dist-packages (from torch>=1.3->pytorch_tabnet) (2023.6.0)\n",
            "Requirement already satisfied: triton==2.1.0 in /usr/local/lib/python3.10/dist-packages (from torch>=1.3->pytorch_tabnet) (2.1.0)\n",
            "Requirement already satisfied: MarkupSafe>=2.0 in /usr/local/lib/python3.10/dist-packages (from jinja2->torch>=1.3->pytorch_tabnet) (2.1.3)\n",
            "Requirement already satisfied: mpmath>=0.19 in /usr/local/lib/python3.10/dist-packages (from sympy->torch>=1.3->pytorch_tabnet) (1.3.0)\n",
            "Installing collected packages: pytorch_tabnet\n",
            "Successfully installed pytorch_tabnet-4.1.0\n"
          ]
        }
      ]
    },
    {
      "cell_type": "code",
      "execution_count": null,
      "metadata": {
        "id": "zEPX1Q8XVsQJ"
      },
      "outputs": [],
      "source": [
        "from pytorch_tabnet.tab_model import TabNetClassifier\n",
        "\n",
        "import torch\n",
        "from sklearn.preprocessing import LabelEncoder\n",
        "from sklearn.metrics import roc_auc_score\n",
        "\n",
        "import pandas as pd\n",
        "import numpy as np\n",
        "np.random.seed(0)\n",
        "\n",
        "\n",
        "import os\n",
        "# import wget\n",
        "from pathlib import Path\n",
        "\n",
        "from matplotlib import pyplot as plt\n",
        "%matplotlib inline"
      ]
    },
    {
      "cell_type": "code",
      "source": [
        "clf = TabNetClassifier(\n",
        "    n_d=64, n_a=64, n_steps=5,\n",
        "    gamma=1.5, n_independent=2, n_shared=2,\n",
        "    cat_idxs=cat_idxs,\n",
        "    cat_dims=cat_dims,\n",
        "    cat_emb_dim=1,\n",
        "    lambda_sparse=1e-4, momentum=0.3, clip_value=2.,\n",
        "    optimizer_fn=torch.optim.Adam,\n",
        "    optimizer_params=dict(lr=2e-2),\n",
        "    scheduler_params = {\"gamma\": 0.95,\n",
        "                     \"step_size\": 20},\n",
        "    scheduler_fn=torch.optim.lr_scheduler.StepLR, epsilon=1e-15\n",
        ")"
      ],
      "metadata": {
        "id": "nr50h2y7Wl2H",
        "colab": {
          "base_uri": "https://localhost:8080/"
        },
        "outputId": "a91a3f75-c0ec-444f-fe91-8ca169605d65"
      },
      "execution_count": null,
      "outputs": [
        {
          "output_type": "stream",
          "name": "stderr",
          "text": [
            "/usr/local/lib/python3.10/dist-packages/pytorch_tabnet/abstract_model.py:82: UserWarning: Device used : cpu\n",
            "  warnings.warn(f\"Device used : {self.device}\")\n"
          ]
        }
      ]
    },
    {
      "cell_type": "code",
      "source": [
        "if os.getenv(\"CI\", False):\n",
        "# Take only a subsample to run CI\n",
        "    X_train = train[features].values[train_indices][:1000,:]\n",
        "    y_train = train[target].values[train_indices][:1000]\n",
        "else:\n",
        "    X_train = train[features].values[train_indices]\n",
        "    y_train = train[target].values[train_indices]\n",
        "\n",
        "X_valid = train[features].values[valid_indices]\n",
        "y_valid = train[target].values[valid_indices]\n",
        "\n",
        "X_test = train[features].values[test_indices]\n",
        "y_test = train[target].values[test_indices]"
      ],
      "metadata": {
        "id": "poQ0u1tzaeu0"
      },
      "execution_count": null,
      "outputs": []
    },
    {
      "cell_type": "code",
      "source": [
        "max_epochs = 100 if not os.getenv(\"CI\", False) else 2"
      ],
      "metadata": {
        "id": "FT9Avv1Tag84"
      },
      "execution_count": null,
      "outputs": []
    },
    {
      "cell_type": "code",
      "source": [
        "from pytorch_tabnet.augmentations import ClassificationSMOTE\n",
        "aug = ClassificationSMOTE(p=0.2)\n",
        "\n",
        "clf.fit(\n",
        "  X_train=X_train, y_train=y_train,\n",
        "  eval_set=[(X_train, y_train), (X_valid, y_valid)],\n",
        "  eval_name=['train', 'valid'],\n",
        "  max_epochs=max_epochs, patience=100,\n",
        "  batch_size=16384, virtual_batch_size=256,\n",
        "  augmentations=aug\n",
        ")"
      ],
      "metadata": {
        "colab": {
          "base_uri": "https://localhost:8080/"
        },
        "id": "ozvQ5liGaiwI",
        "outputId": "c648b922-c433-40ca-8ac9-6293c4a36e9d"
      },
      "execution_count": null,
      "outputs": [
        {
          "output_type": "stream",
          "name": "stdout",
          "text": [
            "epoch 0  | loss: 1.3044  | train_accuracy: 0.59079 | valid_accuracy: 0.58855 |  0:00:53s\n",
            "epoch 1  | loss: 0.50072 | train_accuracy: 0.0034  | valid_accuracy: 0.00356 |  0:01:29s\n",
            "epoch 2  | loss: 0.43134 | train_accuracy: 0.01215 | valid_accuracy: 0.01202 |  0:02:05s\n",
            "epoch 3  | loss: 0.37832 | train_accuracy: 0.15301 | valid_accuracy: 0.1553  |  0:02:41s\n",
            "epoch 4  | loss: 0.35459 | train_accuracy: 0.14416 | valid_accuracy: 0.1466  |  0:03:17s\n",
            "epoch 5  | loss: 0.34194 | train_accuracy: 0.73289 | valid_accuracy: 0.73035 |  0:03:53s\n",
            "epoch 6  | loss: 0.33822 | train_accuracy: 0.01271 | valid_accuracy: 0.01267 |  0:04:29s\n",
            "epoch 7  | loss: 0.33292 | train_accuracy: 0.56834 | valid_accuracy: 0.56642 |  0:05:05s\n",
            "epoch 8  | loss: 0.33058 | train_accuracy: 0.10814 | valid_accuracy: 0.10916 |  0:05:41s\n",
            "epoch 9  | loss: 0.33056 | train_accuracy: 0.64838 | valid_accuracy: 0.64742 |  0:06:17s\n",
            "epoch 10 | loss: 0.32929 | train_accuracy: 0.16183 | valid_accuracy: 0.16402 |  0:06:53s\n",
            "epoch 11 | loss: 0.33079 | train_accuracy: 0.1505  | valid_accuracy: 0.15293 |  0:07:29s\n",
            "epoch 12 | loss: 0.32558 | train_accuracy: 0.72118 | valid_accuracy: 0.72141 |  0:08:05s\n",
            "epoch 13 | loss: 0.32549 | train_accuracy: 0.16339 | valid_accuracy: 0.16544 |  0:08:41s\n",
            "epoch 14 | loss: 0.32438 | train_accuracy: 0.1643  | valid_accuracy: 0.16621 |  0:09:18s\n",
            "epoch 15 | loss: 0.32487 | train_accuracy: 0.82533 | valid_accuracy: 0.82303 |  0:09:53s\n",
            "epoch 16 | loss: 0.32564 | train_accuracy: 0.74475 | valid_accuracy: 0.74169 |  0:10:28s\n",
            "epoch 17 | loss: 0.3246  | train_accuracy: 0.65602 | valid_accuracy: 0.65168 |  0:11:04s\n",
            "epoch 18 | loss: 0.32482 | train_accuracy: 0.3399  | valid_accuracy: 0.34067 |  0:11:38s\n",
            "epoch 19 | loss: 0.32436 | train_accuracy: 0.68394 | valid_accuracy: 0.68024 |  0:12:14s\n",
            "epoch 20 | loss: 0.32395 | train_accuracy: 0.26771 | valid_accuracy: 0.26731 |  0:12:49s\n",
            "epoch 21 | loss: 0.32459 | train_accuracy: 0.60172 | valid_accuracy: 0.59819 |  0:13:26s\n",
            "epoch 22 | loss: 0.3215  | train_accuracy: 0.34049 | valid_accuracy: 0.34203 |  0:14:02s\n",
            "epoch 23 | loss: 0.32252 | train_accuracy: 0.19192 | valid_accuracy: 0.19156 |  0:14:37s\n",
            "epoch 24 | loss: 0.32059 | train_accuracy: 0.34488 | valid_accuracy: 0.34608 |  0:15:14s\n",
            "epoch 25 | loss: 0.32036 | train_accuracy: 0.34489 | valid_accuracy: 0.34627 |  0:15:50s\n",
            "epoch 26 | loss: 0.32115 | train_accuracy: 0.34474 | valid_accuracy: 0.34602 |  0:16:25s\n",
            "epoch 27 | loss: 0.32077 | train_accuracy: 0.3451  | valid_accuracy: 0.34632 |  0:17:01s\n",
            "epoch 28 | loss: 0.32044 | train_accuracy: 0.3451  | valid_accuracy: 0.34638 |  0:17:37s\n",
            "epoch 29 | loss: 0.32163 | train_accuracy: 0.75412 | valid_accuracy: 0.75156 |  0:18:13s\n",
            "epoch 30 | loss: 0.31985 | train_accuracy: 0.75421 | valid_accuracy: 0.75174 |  0:18:49s\n",
            "epoch 31 | loss: 0.32032 | train_accuracy: 0.75427 | valid_accuracy: 0.75174 |  0:19:25s\n",
            "epoch 32 | loss: 0.32104 | train_accuracy: 0.75443 | valid_accuracy: 0.75193 |  0:20:02s\n",
            "epoch 33 | loss: 0.31943 | train_accuracy: 0.75604 | valid_accuracy: 0.75347 |  0:20:39s\n",
            "epoch 34 | loss: 0.32026 | train_accuracy: 0.75687 | valid_accuracy: 0.75442 |  0:21:15s\n",
            "epoch 35 | loss: 0.32041 | train_accuracy: 0.75779 | valid_accuracy: 0.75523 |  0:21:51s\n",
            "epoch 36 | loss: 0.31961 | train_accuracy: 0.75864 | valid_accuracy: 0.75628 |  0:22:27s\n",
            "epoch 37 | loss: 0.31893 | train_accuracy: 0.90715 | valid_accuracy: 0.90704 |  0:23:03s\n",
            "epoch 38 | loss: 0.31978 | train_accuracy: 0.90721 | valid_accuracy: 0.90705 |  0:23:39s\n",
            "epoch 39 | loss: 0.32098 | train_accuracy: 0.90054 | valid_accuracy: 0.90091 |  0:24:15s\n",
            "epoch 40 | loss: 0.32007 | train_accuracy: 0.90044 | valid_accuracy: 0.90084 |  0:24:50s\n",
            "epoch 41 | loss: 0.31775 | train_accuracy: 0.90115 | valid_accuracy: 0.90151 |  0:25:27s\n",
            "epoch 42 | loss: 0.31869 | train_accuracy: 0.90659 | valid_accuracy: 0.90656 |  0:26:03s\n",
            "epoch 43 | loss: 0.31867 | train_accuracy: 0.90739 | valid_accuracy: 0.90726 |  0:26:39s\n",
            "epoch 44 | loss: 0.3177  | train_accuracy: 0.90776 | valid_accuracy: 0.90753 |  0:27:14s\n",
            "epoch 45 | loss: 0.31905 | train_accuracy: 0.90706 | valid_accuracy: 0.90705 |  0:27:48s\n",
            "epoch 46 | loss: 0.31922 | train_accuracy: 0.90695 | valid_accuracy: 0.90666 |  0:28:22s\n",
            "epoch 47 | loss: 0.31852 | train_accuracy: 0.90784 | valid_accuracy: 0.90767 |  0:28:56s\n",
            "epoch 48 | loss: 0.31846 | train_accuracy: 0.90754 | valid_accuracy: 0.90728 |  0:29:30s\n",
            "epoch 49 | loss: 0.32007 | train_accuracy: 0.90785 | valid_accuracy: 0.90762 |  0:30:05s\n",
            "epoch 50 | loss: 0.31874 | train_accuracy: 0.90711 | valid_accuracy: 0.90699 |  0:30:41s\n",
            "epoch 51 | loss: 0.31741 | train_accuracy: 0.90781 | valid_accuracy: 0.90762 |  0:31:21s\n",
            "epoch 52 | loss: 0.31824 | train_accuracy: 0.90774 | valid_accuracy: 0.90748 |  0:32:19s\n",
            "epoch 53 | loss: 0.31826 | train_accuracy: 0.90784 | valid_accuracy: 0.90755 |  0:32:55s\n",
            "epoch 54 | loss: 0.31689 | train_accuracy: 0.90769 | valid_accuracy: 0.90747 |  0:33:31s\n",
            "epoch 55 | loss: 0.31887 | train_accuracy: 0.90784 | valid_accuracy: 0.90775 |  0:34:07s\n",
            "epoch 56 | loss: 0.31873 | train_accuracy: 0.90777 | valid_accuracy: 0.90758 |  0:34:42s\n",
            "epoch 57 | loss: 0.31736 | train_accuracy: 0.90775 | valid_accuracy: 0.9075  |  0:35:19s\n",
            "epoch 58 | loss: 0.31682 | train_accuracy: 0.9079  | valid_accuracy: 0.90769 |  0:35:56s\n",
            "epoch 59 | loss: 0.31639 | train_accuracy: 0.9078  | valid_accuracy: 0.90762 |  0:36:32s\n",
            "epoch 60 | loss: 0.31691 | train_accuracy: 0.9078  | valid_accuracy: 0.90753 |  0:37:09s\n",
            "epoch 61 | loss: 0.319   | train_accuracy: 0.90791 | valid_accuracy: 0.90766 |  0:37:45s\n",
            "epoch 62 | loss: 0.31836 | train_accuracy: 0.90776 | valid_accuracy: 0.90748 |  0:38:22s\n",
            "epoch 63 | loss: 0.31984 | train_accuracy: 0.90784 | valid_accuracy: 0.90756 |  0:38:59s\n",
            "epoch 64 | loss: 0.3203  | train_accuracy: 0.90776 | valid_accuracy: 0.90748 |  0:39:35s\n",
            "epoch 65 | loss: 0.31954 | train_accuracy: 0.90783 | valid_accuracy: 0.90755 |  0:40:10s\n",
            "epoch 66 | loss: 0.3185  | train_accuracy: 0.90765 | valid_accuracy: 0.90739 |  0:40:46s\n",
            "epoch 67 | loss: 0.3191  | train_accuracy: 0.90789 | valid_accuracy: 0.9077  |  0:41:23s\n",
            "epoch 68 | loss: 0.31893 | train_accuracy: 0.9079  | valid_accuracy: 0.90767 |  0:41:59s\n",
            "epoch 69 | loss: 0.31949 | train_accuracy: 0.90781 | valid_accuracy: 0.90761 |  0:42:35s\n",
            "epoch 70 | loss: 0.31905 | train_accuracy: 0.90775 | valid_accuracy: 0.90748 |  0:43:12s\n",
            "epoch 71 | loss: 0.31774 | train_accuracy: 0.90783 | valid_accuracy: 0.90755 |  0:43:48s\n",
            "epoch 72 | loss: 0.31817 | train_accuracy: 0.90788 | valid_accuracy: 0.9077  |  0:44:25s\n",
            "epoch 73 | loss: 0.31595 | train_accuracy: 0.9079  | valid_accuracy: 0.90767 |  0:45:01s\n",
            "epoch 74 | loss: 0.31748 | train_accuracy: 0.90795 | valid_accuracy: 0.90783 |  0:45:38s\n",
            "epoch 75 | loss: 0.31777 | train_accuracy: 0.90784 | valid_accuracy: 0.90769 |  0:46:14s\n",
            "epoch 76 | loss: 0.31814 | train_accuracy: 0.90788 | valid_accuracy: 0.90772 |  0:46:49s\n",
            "epoch 77 | loss: 0.31618 | train_accuracy: 0.90788 | valid_accuracy: 0.90769 |  0:47:24s\n",
            "epoch 78 | loss: 0.31858 | train_accuracy: 0.90789 | valid_accuracy: 0.90781 |  0:47:59s\n",
            "epoch 79 | loss: 0.32024 | train_accuracy: 0.90775 | valid_accuracy: 0.90759 |  0:48:34s\n",
            "epoch 80 | loss: 0.31784 | train_accuracy: 0.90784 | valid_accuracy: 0.9077  |  0:49:09s\n",
            "epoch 81 | loss: 0.31777 | train_accuracy: 0.90776 | valid_accuracy: 0.90758 |  0:49:45s\n",
            "epoch 82 | loss: 0.31994 | train_accuracy: 0.90784 | valid_accuracy: 0.90755 |  0:50:20s\n",
            "epoch 83 | loss: 0.31745 | train_accuracy: 0.90789 | valid_accuracy: 0.90766 |  0:50:54s\n",
            "epoch 84 | loss: 0.31764 | train_accuracy: 0.90788 | valid_accuracy: 0.90767 |  0:51:30s\n",
            "epoch 85 | loss: 0.31691 | train_accuracy: 0.90789 | valid_accuracy: 0.90762 |  0:52:05s\n",
            "epoch 86 | loss: 0.31572 | train_accuracy: 0.90792 | valid_accuracy: 0.90778 |  0:52:41s\n",
            "epoch 87 | loss: 0.31649 | train_accuracy: 0.90788 | valid_accuracy: 0.9077  |  0:53:17s\n",
            "epoch 88 | loss: 0.31645 | train_accuracy: 0.90788 | valid_accuracy: 0.9077  |  0:53:51s\n",
            "epoch 89 | loss: 0.31665 | train_accuracy: 0.90788 | valid_accuracy: 0.9077  |  0:54:27s\n",
            "epoch 90 | loss: 0.31597 | train_accuracy: 0.90784 | valid_accuracy: 0.90755 |  0:55:03s\n",
            "epoch 91 | loss: 0.31775 | train_accuracy: 0.90784 | valid_accuracy: 0.90755 |  0:55:38s\n",
            "epoch 92 | loss: 0.31755 | train_accuracy: 0.90791 | valid_accuracy: 0.90767 |  0:56:14s\n",
            "epoch 93 | loss: 0.31602 | train_accuracy: 0.90784 | valid_accuracy: 0.90755 |  0:56:49s\n",
            "epoch 94 | loss: 0.31876 | train_accuracy: 0.90791 | valid_accuracy: 0.90767 |  0:57:25s\n",
            "epoch 95 | loss: 0.31708 | train_accuracy: 0.90791 | valid_accuracy: 0.90767 |  0:58:00s\n",
            "epoch 96 | loss: 0.31661 | train_accuracy: 0.90791 | valid_accuracy: 0.90767 |  0:58:35s\n",
            "epoch 97 | loss: 0.31728 | train_accuracy: 0.90796 | valid_accuracy: 0.90783 |  0:59:11s\n",
            "epoch 98 | loss: 0.31814 | train_accuracy: 0.9078  | valid_accuracy: 0.90764 |  0:59:46s\n",
            "epoch 99 | loss: 0.31759 | train_accuracy: 0.90796 | valid_accuracy: 0.90783 |  1:00:22s\n",
            "Stop training because you reached max_epochs = 100 with best_epoch = 74 and best_valid_accuracy = 0.90783\n"
          ]
        },
        {
          "output_type": "stream",
          "name": "stderr",
          "text": [
            "/usr/local/lib/python3.10/dist-packages/pytorch_tabnet/callbacks.py:172: UserWarning: Best weights from best epoch are automatically used!\n",
            "  warnings.warn(wrn_msg)\n"
          ]
        }
      ]
    },
    {
      "cell_type": "code",
      "source": [
        "# plot losses\n",
        "plt.plot(clf.history['loss'])"
      ],
      "metadata": {
        "colab": {
          "base_uri": "https://localhost:8080/",
          "height": 447
        },
        "id": "TzcP8b9ramu2",
        "outputId": "6241ff13-0b60-42a8-af78-3eb32b927c7c"
      },
      "execution_count": null,
      "outputs": [
        {
          "output_type": "execute_result",
          "data": {
            "text/plain": [
              "[<matplotlib.lines.Line2D at 0x7af8919dc610>]"
            ]
          },
          "metadata": {},
          "execution_count": 14
        },
        {
          "output_type": "display_data",
          "data": {
            "text/plain": [
              "<Figure size 640x480 with 1 Axes>"
            ],
            "image/png": "[encoded data removed]"
          },
          "metadata": {}
        }
      ]
    },
    {
      "cell_type": "code",
      "source": [
        "# plot accuracy\n",
        "plt.plot(clf.history['train_accuracy'])"
      ],
      "metadata": {
        "colab": {
          "base_uri": "https://localhost:8080/",
          "height": 447
        },
        "id": "DvtwrHcGsKKh",
        "outputId": "fc85303a-0add-43e4-864e-4676e905ddc5"
      },
      "execution_count": null,
      "outputs": [
        {
          "output_type": "execute_result",
          "data": {
            "text/plain": [
              "[<matplotlib.lines.Line2D at 0x7af8be9d49a0>]"
            ]
          },
          "metadata": {},
          "execution_count": 15
        },
        {
          "output_type": "display_data",
          "data": {
            "text/plain": [
              "<Figure size 640x480 with 1 Axes>"
            ],
            "image/png": "[encoded data removed]"
          },
          "metadata": {}
        }
      ]
    },
    {
      "cell_type": "code",
      "source": [
        "plt.plot(clf.history['valid_accuracy'])"
      ],
      "metadata": {
        "colab": {
          "base_uri": "https://localhost:8080/",
          "height": 447
        },
        "id": "1J5hvdiSan-h",
        "outputId": "f8f54f6d-dcb7-4426-c2c6-add9a2b4e642"
      },
      "execution_count": null,
      "outputs": [
        {
          "output_type": "execute_result",
          "data": {
            "text/plain": [
              "[<matplotlib.lines.Line2D at 0x7af8be9a51e0>]"
            ]
          },
          "metadata": {},
          "execution_count": 16
        },
        {
          "output_type": "display_data",
          "data": {
            "text/plain": [
              "<Figure size 640x480 with 1 Axes>"
            ],
            "image/png": "[encoded data removed]"
          },
          "metadata": {}
        }
      ]
    },
    {
      "cell_type": "code",
      "source": [
        "from sklearn.metrics import accuracy_score, precision_score, recall_score\n",
        "preds_mapper = { idx : class_name for idx, class_name in enumerate(clf.classes_)}\n",
        "\n",
        "preds = clf.predict_proba(X_test)\n",
        "\n",
        "y_pred = np.vectorize(preds_mapper.get)(np.argmax(preds, axis=1))\n",
        "\n",
        "test_acc = accuracy_score(y_pred=y_pred, y_true=y_test)\n",
        "test_pre = precision_score(y_pred=y_pred, y_true=y_test, average='weighted')\n",
        "test_rec = recall_score(y_pred=y_pred, y_true=y_test, average='weighted')\n",
        "\n",
        "print(f\"BEST VALID SCORE FOR water dataset : {clf.best_cost}\")\n",
        "print(f\"FINAL TEST SCORE FOR water dataset : {test_acc}\")\n",
        "print(f\"precision score : {test_pre}\")\n",
        "print(f\"recall score : {test_rec}\")"
      ],
      "metadata": {
        "colab": {
          "base_uri": "https://localhost:8080/"
        },
        "id": "7HqF1pEfapgQ",
        "outputId": "16d49110-0784-4630-fd82-5c53719423e0"
      },
      "execution_count": null,
      "outputs": [
        {
          "output_type": "stream",
          "name": "stdout",
          "text": [
            "BEST VALID SCORE FOR water dataset : 0.907830808802515\n",
            "FINAL TEST SCORE FOR water dataset : 0.9069565585570327\n",
            "precision score : 0.8250462249911977\n",
            "recall score : 0.9069565585570327\n"
          ]
        },
        {
          "output_type": "stream",
          "name": "stderr",
          "text": [
            "/usr/local/lib/python3.10/dist-packages/sklearn/metrics/_classification.py:1344: UndefinedMetricWarning: Precision is ill-defined and being set to 0.0 in labels with no predicted samples. Use `zero_division` parameter to control this behavior.\n",
            "  _warn_prf(average, modifier, msg_start, len(result))\n"
          ]
        }
      ]
    },
    {
      "cell_type": "code",
      "source": [
        "# or you can simply use the predict method\n",
        "\n",
        "y_pred = clf.predict(X_test)\n",
        "test_acc = accuracy_score(y_pred=y_pred, y_true=y_test)\n",
        "print(f\"FINAL TEST SCORE FOR water dataset : {test_acc}\")"
      ],
      "metadata": {
        "colab": {
          "base_uri": "https://localhost:8080/"
        },
        "id": "jy0HrnjAarBG",
        "outputId": "48d1e34a-cd4d-4564-db42-f7a58d6c6ce0"
      },
      "execution_count": null,
      "outputs": [
        {
          "output_type": "stream",
          "name": "stdout",
          "text": [
            "FINAL TEST SCORE FOR water dataset : 0.9069565585570327\n"
          ]
        }
      ]
    },
    {
      "cell_type": "code",
      "source": [
        "plt.plot(clf.history['lr'])"
      ],
      "metadata": {
        "colab": {
          "base_uri": "https://localhost:8080/",
          "height": 447
        },
        "id": "x8g5r36YXJ-a",
        "outputId": "0aafc7cc-4bc2-4be3-cfbc-78b791471957"
      },
      "execution_count": null,
      "outputs": [
        {
          "output_type": "execute_result",
          "data": {
            "text/plain": [
              "[<matplotlib.lines.Line2D at 0x7af8beafe890>]"
            ]
          },
          "metadata": {},
          "execution_count": 19
        },
        {
          "output_type": "display_data",
          "data": {
            "text/plain": [
              "<Figure size 640x480 with 1 Axes>"
            ],
            "image/png": "[encoded data removed]"
          },
          "metadata": {}
        }
      ]
    },
    {
      "cell_type": "code",
      "source": [
        "# save state dict\n",
        "saved_filename = clf.save_model('test_model')"
      ],
      "metadata": {
        "id": "syWZ31tVXPMp",
        "colab": {
          "base_uri": "https://localhost:8080/"
        },
        "outputId": "70bb8cb5-ef68-4db9-ae85-c3d6ee7fbc93"
      },
      "execution_count": null,
      "outputs": [
        {
          "output_type": "stream",
          "name": "stdout",
          "text": [
            "Successfully saved model at test_model.zip\n"
          ]
        }
      ]
    },
    {
      "cell_type": "code",
      "source": [
        "# define new model and load save parameters\n",
        "loaded_clf = TabNetClassifier()\n",
        "loaded_clf.load_model(saved_filename)"
      ],
      "metadata": {
        "id": "3noJNM7kgZTC"
      },
      "execution_count": null,
      "outputs": []
    },
    {
      "cell_type": "code",
      "source": [
        "loaded_preds = loaded_clf.predict_proba(X_test)\n",
        "loaded_y_pred = np.vectorize(preds_mapper.get)(np.argmax(loaded_preds, axis=1))\n",
        "\n",
        "loaded_test_acc = accuracy_score(y_pred=loaded_y_pred, y_true=y_test)\n",
        "\n",
        "print(f\"FINAL TEST SCORE FOR water data : {loaded_test_acc}\")"
      ],
      "metadata": {
        "colab": {
          "base_uri": "https://localhost:8080/"
        },
        "id": "m6K613eHgabu",
        "outputId": "23e9e50a-147f-4cfe-a027-21b192029965"
      },
      "execution_count": null,
      "outputs": [
        {
          "output_type": "stream",
          "name": "stdout",
          "text": [
            "FINAL TEST SCORE FOR water data : 0.9069565585570327\n"
          ]
        }
      ]
    },
    {
      "cell_type": "code",
      "source": [
        "assert(test_acc == loaded_test_acc)"
      ],
      "metadata": {
        "id": "f8q8bk4hgeNu"
      },
      "execution_count": null,
      "outputs": []
    },
    {
      "cell_type": "code",
      "source": [
        "explain_matrix, masks = clf.explain(X_test)"
      ],
      "metadata": {
        "id": "eeVaqyv-gfw9"
      },
      "execution_count": null,
      "outputs": []
    },
    {
      "cell_type": "code",
      "source": [
        "fig, axs = plt.subplots(1, 5, figsize=(20,20))\n",
        "\n",
        "for i in range(5):\n",
        "  axs[i].imshow(masks[i][:50])\n",
        "  axs[i].set_title(f\"mask {i}\")"
      ],
      "metadata": {
        "colab": {
          "base_uri": "https://localhost:8080/",
          "height": 344
        },
        "id": "grddcfJUghTe",
        "outputId": "1fef03d5-ed40-471a-c7e1-365cba548a74"
      },
      "execution_count": null,
      "outputs": [
        {
          "output_type": "display_data",
          "data": {
            "text/plain": [
              "<Figure size 2000x2000 with 5 Axes>"
            ],
            "image/png": "[encoded data removed]"
          },
          "metadata": {}
        }
      ]
    },
    {
      "cell_type": "code",
      "source": [
        "from sklearn.metrics import f1_score\n",
        "test_f1 = f1_score(y_pred=y_pred, y_true=y_test, average='weighted')\n",
        "print(test_f1)"
      ],
      "metadata": {
        "colab": {
          "base_uri": "https://localhost:8080/"
        },
        "id": "1EYq69U_gim9",
        "outputId": "7e6a045e-17e8-4d20-f701-779b67e9e5c0"
      },
      "execution_count": null,
      "outputs": [
        {
          "output_type": "stream",
          "name": "stdout",
          "text": [
            "0.8635451403189094\n"
          ]
        }
      ]
    }
  ]
}